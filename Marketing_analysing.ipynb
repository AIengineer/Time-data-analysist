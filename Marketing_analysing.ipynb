{
 "cells": [
  {
   "cell_type": "markdown",
   "metadata": {},
   "source": [
    "# Import library"
   ]
  },
  {
   "cell_type": "code",
   "execution_count": 1,
   "metadata": {},
   "outputs": [],
   "source": [
    "import pandas as pd\n",
    "import numpy as np\n",
    "from tqdm import tqdm_notebook"
   ]
  },
  {
   "cell_type": "markdown",
   "metadata": {},
   "source": [
    "# Read data in online_activity_test_.csv"
   ]
  },
  {
   "cell_type": "code",
   "execution_count": 2,
   "metadata": {},
   "outputs": [],
   "source": [
    "data = pd.read_csv('online_activity_test_.csv')"
   ]
  },
  {
   "cell_type": "code",
   "execution_count": 3,
   "metadata": {},
   "outputs": [
    {
     "data": {
      "text/html": [
       "<div>\n",
       "<style scoped>\n",
       "    .dataframe tbody tr th:only-of-type {\n",
       "        vertical-align: middle;\n",
       "    }\n",
       "\n",
       "    .dataframe tbody tr th {\n",
       "        vertical-align: top;\n",
       "    }\n",
       "\n",
       "    .dataframe thead th {\n",
       "        text-align: right;\n",
       "    }\n",
       "</style>\n",
       "<table border=\"1\" class=\"dataframe\">\n",
       "  <thead>\n",
       "    <tr style=\"text-align: right;\">\n",
       "      <th></th>\n",
       "      <th>member_id</th>\n",
       "      <th>browser_id</th>\n",
       "      <th>register_id</th>\n",
       "      <th>date_time</th>\n",
       "      <th>url</th>\n",
       "    </tr>\n",
       "  </thead>\n",
       "  <tbody>\n",
       "    <tr>\n",
       "      <th>0</th>\n",
       "      <td>NaN</td>\n",
       "      <td>3.020000e+37</td>\n",
       "      <td>NaN</td>\n",
       "      <td>2020-08-08T19:09:26.000Z</td>\n",
       "      <td>NaN</td>\n",
       "    </tr>\n",
       "    <tr>\n",
       "      <th>1</th>\n",
       "      <td>5.443924e+09</td>\n",
       "      <td>4.830000e+37</td>\n",
       "      <td>NaN</td>\n",
       "      <td>2020-08-08T19:53:48.000Z</td>\n",
       "      <td>www:/money/taxes/info-2020/states-that-dont-ta...</td>\n",
       "    </tr>\n",
       "    <tr>\n",
       "      <th>2</th>\n",
       "      <td>NaN</td>\n",
       "      <td>4.830000e+37</td>\n",
       "      <td>NaN</td>\n",
       "      <td>2020-08-08T19:32:18.000Z</td>\n",
       "      <td>games:/games/bubble-dragons</td>\n",
       "    </tr>\n",
       "    <tr>\n",
       "      <th>3</th>\n",
       "      <td>5.131951e+09</td>\n",
       "      <td>3.050000e+37</td>\n",
       "      <td>34999201.0</td>\n",
       "      <td>2020-08-08T19:03:08.000Z</td>\n",
       "      <td>games:/games/forty-thieves-solitaire</td>\n",
       "    </tr>\n",
       "    <tr>\n",
       "      <th>4</th>\n",
       "      <td>1.473905e+09</td>\n",
       "      <td>4.860000e+37</td>\n",
       "      <td>94842213.0</td>\n",
       "      <td>2020-08-08T19:37:28.000Z</td>\n",
       "      <td>games:/games/mahjongg-solitaire</td>\n",
       "    </tr>\n",
       "  </tbody>\n",
       "</table>\n",
       "</div>"
      ],
      "text/plain": [
       "      member_id    browser_id  register_id                 date_time  \\\n",
       "0           NaN  3.020000e+37          NaN  2020-08-08T19:09:26.000Z   \n",
       "1  5.443924e+09  4.830000e+37          NaN  2020-08-08T19:53:48.000Z   \n",
       "2           NaN  4.830000e+37          NaN  2020-08-08T19:32:18.000Z   \n",
       "3  5.131951e+09  3.050000e+37   34999201.0  2020-08-08T19:03:08.000Z   \n",
       "4  1.473905e+09  4.860000e+37   94842213.0  2020-08-08T19:37:28.000Z   \n",
       "\n",
       "                                                 url  \n",
       "0                                                NaN  \n",
       "1  www:/money/taxes/info-2020/states-that-dont-ta...  \n",
       "2                        games:/games/bubble-dragons  \n",
       "3               games:/games/forty-thieves-solitaire  \n",
       "4                    games:/games/mahjongg-solitaire  "
      ]
     },
     "execution_count": 3,
     "metadata": {},
     "output_type": "execute_result"
    }
   ],
   "source": [
    "data.head()"
   ]
  },
  {
   "cell_type": "markdown",
   "metadata": {},
   "source": [
    "# Analysing data( mean, standard variation, min, max, count)"
   ]
  },
  {
   "cell_type": "markdown",
   "metadata": {},
   "source": [
    "1.\tWhat’s general statistics you can get from the table? (Example: total counts of members/non-members from first column, means, range, % distribution, etc.)"
   ]
  },
  {
   "cell_type": "code",
   "execution_count": 4,
   "metadata": {},
   "outputs": [
    {
     "data": {
      "text/html": [
       "<div>\n",
       "<style scoped>\n",
       "    .dataframe tbody tr th:only-of-type {\n",
       "        vertical-align: middle;\n",
       "    }\n",
       "\n",
       "    .dataframe tbody tr th {\n",
       "        vertical-align: top;\n",
       "    }\n",
       "\n",
       "    .dataframe thead th {\n",
       "        text-align: right;\n",
       "    }\n",
       "</style>\n",
       "<table border=\"1\" class=\"dataframe\">\n",
       "  <thead>\n",
       "    <tr style=\"text-align: right;\">\n",
       "      <th></th>\n",
       "      <th>member_id</th>\n",
       "      <th>browser_id</th>\n",
       "      <th>register_id</th>\n",
       "    </tr>\n",
       "  </thead>\n",
       "  <tbody>\n",
       "    <tr>\n",
       "      <th>count</th>\n",
       "      <td>3.587000e+03</td>\n",
       "      <td>1.000000e+04</td>\n",
       "      <td>2.809000e+03</td>\n",
       "    </tr>\n",
       "    <tr>\n",
       "      <th>mean</th>\n",
       "      <td>4.335833e+09</td>\n",
       "      <td>3.627784e+37</td>\n",
       "      <td>7.055831e+07</td>\n",
       "    </tr>\n",
       "    <tr>\n",
       "      <th>std</th>\n",
       "      <td>1.316784e+09</td>\n",
       "      <td>2.434658e+37</td>\n",
       "      <td>3.362299e+07</td>\n",
       "    </tr>\n",
       "    <tr>\n",
       "      <th>min</th>\n",
       "      <td>0.000000e+00</td>\n",
       "      <td>1.210000e+18</td>\n",
       "      <td>6.125200e+04</td>\n",
       "    </tr>\n",
       "    <tr>\n",
       "      <th>25%</th>\n",
       "      <td>4.043162e+09</td>\n",
       "      <td>1.460000e+37</td>\n",
       "      <td>3.954276e+07</td>\n",
       "    </tr>\n",
       "    <tr>\n",
       "      <th>50%</th>\n",
       "      <td>4.744639e+09</td>\n",
       "      <td>3.540000e+37</td>\n",
       "      <td>8.988792e+07</td>\n",
       "    </tr>\n",
       "    <tr>\n",
       "      <th>75%</th>\n",
       "      <td>5.186028e+09</td>\n",
       "      <td>5.300000e+37</td>\n",
       "      <td>9.668884e+07</td>\n",
       "    </tr>\n",
       "    <tr>\n",
       "      <th>max</th>\n",
       "      <td>3.216303e+10</td>\n",
       "      <td>9.220000e+37</td>\n",
       "      <td>1.005760e+08</td>\n",
       "    </tr>\n",
       "  </tbody>\n",
       "</table>\n",
       "</div>"
      ],
      "text/plain": [
       "          member_id    browser_id   register_id\n",
       "count  3.587000e+03  1.000000e+04  2.809000e+03\n",
       "mean   4.335833e+09  3.627784e+37  7.055831e+07\n",
       "std    1.316784e+09  2.434658e+37  3.362299e+07\n",
       "min    0.000000e+00  1.210000e+18  6.125200e+04\n",
       "25%    4.043162e+09  1.460000e+37  3.954276e+07\n",
       "50%    4.744639e+09  3.540000e+37  8.988792e+07\n",
       "75%    5.186028e+09  5.300000e+37  9.668884e+07\n",
       "max    3.216303e+10  9.220000e+37  1.005760e+08"
      ]
     },
     "execution_count": 4,
     "metadata": {},
     "output_type": "execute_result"
    }
   ],
   "source": [
    "data.describe()"
   ]
  },
  {
   "cell_type": "code",
   "execution_count": 5,
   "metadata": {},
   "outputs": [
    {
     "data": {
      "text/plain": [
       "count    3.587000e+03\n",
       "mean     4.335833e+09\n",
       "std      1.316784e+09\n",
       "min      0.000000e+00\n",
       "25%      4.043162e+09\n",
       "50%      4.744639e+09\n",
       "75%      5.186028e+09\n",
       "max      3.216303e+10\n",
       "Name: member_id, dtype: float64"
      ]
     },
     "execution_count": 5,
     "metadata": {},
     "output_type": "execute_result"
    }
   ],
   "source": [
    "data[data.columns[0]].describe()"
   ]
  },
  {
   "cell_type": "code",
   "execution_count": 6,
   "metadata": {},
   "outputs": [
    {
     "data": {
      "text/plain": [
       "count    1.000000e+04\n",
       "mean     3.627784e+37\n",
       "std      2.434658e+37\n",
       "min      1.210000e+18\n",
       "25%      1.460000e+37\n",
       "50%      3.540000e+37\n",
       "75%      5.300000e+37\n",
       "max      9.220000e+37\n",
       "Name: browser_id, dtype: float64"
      ]
     },
     "execution_count": 6,
     "metadata": {},
     "output_type": "execute_result"
    }
   ],
   "source": [
    "data[data.columns[1]].describe()"
   ]
  },
  {
   "cell_type": "code",
   "execution_count": 7,
   "metadata": {},
   "outputs": [
    {
     "data": {
      "text/plain": [
       "count    2.809000e+03\n",
       "mean     7.055831e+07\n",
       "std      3.362299e+07\n",
       "min      6.125200e+04\n",
       "25%      3.954276e+07\n",
       "50%      8.988792e+07\n",
       "75%      9.668884e+07\n",
       "max      1.005760e+08\n",
       "Name: register_id, dtype: float64"
      ]
     },
     "execution_count": 7,
     "metadata": {},
     "output_type": "execute_result"
    }
   ],
   "source": [
    "data[data.columns[2]].describe()"
   ]
  },
  {
   "cell_type": "code",
   "execution_count": 8,
   "metadata": {},
   "outputs": [
    {
     "data": {
      "text/plain": [
       "count                        10000\n",
       "unique                        9172\n",
       "top       2020-09-09T18:54:39.000Z\n",
       "freq                             4\n",
       "Name: date_time, dtype: object"
      ]
     },
     "execution_count": 8,
     "metadata": {},
     "output_type": "execute_result"
    }
   ],
   "source": [
    "data[data.columns[3]].describe()"
   ]
  },
  {
   "cell_type": "code",
   "execution_count": 9,
   "metadata": {},
   "outputs": [
    {
     "data": {
      "text/plain": [
       "count                               5587\n",
       "unique                              1375\n",
       "top       games:/games/classic-solitaire\n",
       "freq                                 192\n",
       "Name: url, dtype: object"
      ]
     },
     "execution_count": 9,
     "metadata": {},
     "output_type": "execute_result"
    }
   ],
   "source": [
    "data[data.columns[4]].describe()"
   ]
  },
  {
   "cell_type": "markdown",
   "metadata": {},
   "source": [
    "# Plot frequency of each columns"
   ]
  },
  {
   "cell_type": "code",
   "execution_count": 10,
   "metadata": {},
   "outputs": [
    {
     "data": {
      "text/plain": [
       "<AxesSubplot:title={'center':'frequency members'}, ylabel='Frequency'>"
      ]
     },
     "execution_count": 10,
     "metadata": {},
     "output_type": "execute_result"
    },
    {
     "data": {
      "image/png": "[encoded data removed]",
      "text/plain": [
       "<Figure size 432x288 with 1 Axes>"
      ]
     },
     "metadata": {
      "needs_background": "light"
     },
     "output_type": "display_data"
    }
   ],
   "source": [
    "data[data.columns[0]].value_counts().plot(kind='hist', title='frequency members')"
   ]
  },
  {
   "cell_type": "code",
   "execution_count": 11,
   "metadata": {},
   "outputs": [
    {
     "data": {
      "text/plain": [
       "<AxesSubplot:title={'center':'frequency members accessed brower'}, ylabel='Frequency'>"
      ]
     },
     "execution_count": 11,
     "metadata": {},
     "output_type": "execute_result"
    },
    {
     "data": {
      "image/png": "[encoded data removed]",
      "text/plain": [
       "<Figure size 432x288 with 1 Axes>"
      ]
     },
     "metadata": {
      "needs_background": "light"
     },
     "output_type": "display_data"
    }
   ],
   "source": [
    "data[data.columns[1]].value_counts().plot(kind='hist', title='frequency members accessed brower' )"
   ]
  },
  {
   "cell_type": "code",
   "execution_count": 12,
   "metadata": {},
   "outputs": [
    {
     "data": {
      "text/plain": [
       "<AxesSubplot:title={'center':'frequency members by register_id'}, ylabel='Frequency'>"
      ]
     },
     "execution_count": 12,
     "metadata": {},
     "output_type": "execute_result"
    },
    {
     "data": {
      "image/png": "[encoded data removed]",
      "text/plain": [
       "<Figure size 432x288 with 1 Axes>"
      ]
     },
     "metadata": {
      "needs_background": "light"
     },
     "output_type": "display_data"
    }
   ],
   "source": [
    "data[data.columns[2]].value_counts().plot(kind='hist', title='frequency members by register_id')"
   ]
  },
  {
   "cell_type": "code",
   "execution_count": 13,
   "metadata": {},
   "outputs": [
    {
     "data": {
      "text/plain": [
       "<AxesSubplot:title={'center':'frequency members by website'}, ylabel='Frequency'>"
      ]
     },
     "execution_count": 13,
     "metadata": {},
     "output_type": "execute_result"
    },
    {
     "data": {
      "image/png": "[encoded data removed]",
      "text/plain": [
       "<Figure size 432x288 with 1 Axes>"
      ]
     },
     "metadata": {
      "needs_background": "light"
     },
     "output_type": "display_data"
    }
   ],
   "source": [
    "data[data.columns[4]].value_counts().plot(kind='hist', title='frequency members by website')"
   ]
  },
  {
   "cell_type": "markdown",
   "metadata": {},
   "source": [
    "# 2.\tGenerate these new variables for each individual (members or non-members) based on existing five columns:"
   ]
  },
  {
   "cell_type": "markdown",
   "metadata": {},
   "source": [
    "\n",
    "•\tAverage clicks in the past 7 days\n",
    "\n",
    "•\tAverage clicks in the past 30 days\n",
    "\n",
    "•\tTime spent on website (average mins per day).\n",
    "\n",
    "        In digital area, all clicks within 30mins are counted as the one visit. So to get time spent, we assume if the person still clicks within 30mins, he/she is still browsing sites. For example, the person clicked at 1:00, 1:10, 1:20, 2:00, and 2:05. It means the person had two visits. Visit 1, he spent 20mins (1:00-1:20). Visit 2, he spent 5 mins (2:00-2:05). Total time spent is 25mins.\n",
    " \n",
    "•\tWeb content channel each person clicked (by using url column)\n"
   ]
  },
  {
   "cell_type": "markdown",
   "metadata": {},
   "source": [
    "# convert date time with string format to date_time"
   ]
  },
  {
   "cell_type": "code",
   "execution_count": 14,
   "metadata": {},
   "outputs": [],
   "source": [
    "data['date_time'] = pd.to_datetime(data['date_time'], format='%Y-%m-%d %H:%M:%S')"
   ]
  },
  {
   "cell_type": "markdown",
   "metadata": {},
   "source": [
    "# Set date_time series to index"
   ]
  },
  {
   "cell_type": "code",
   "execution_count": 15,
   "metadata": {},
   "outputs": [],
   "source": [
    "data = data.set_index(['date_time'])"
   ]
  },
  {
   "cell_type": "code",
   "execution_count": 16,
   "metadata": {},
   "outputs": [
    {
     "data": {
      "text/html": [
       "<div>\n",
       "<style scoped>\n",
       "    .dataframe tbody tr th:only-of-type {\n",
       "        vertical-align: middle;\n",
       "    }\n",
       "\n",
       "    .dataframe tbody tr th {\n",
       "        vertical-align: top;\n",
       "    }\n",
       "\n",
       "    .dataframe thead th {\n",
       "        text-align: right;\n",
       "    }\n",
       "</style>\n",
       "<table border=\"1\" class=\"dataframe\">\n",
       "  <thead>\n",
       "    <tr style=\"text-align: right;\">\n",
       "      <th></th>\n",
       "      <th>member_id</th>\n",
       "      <th>browser_id</th>\n",
       "      <th>register_id</th>\n",
       "      <th>url</th>\n",
       "    </tr>\n",
       "    <tr>\n",
       "      <th>date_time</th>\n",
       "      <th></th>\n",
       "      <th></th>\n",
       "      <th></th>\n",
       "      <th></th>\n",
       "    </tr>\n",
       "  </thead>\n",
       "  <tbody>\n",
       "    <tr>\n",
       "      <th>2020-08-08 19:09:26+00:00</th>\n",
       "      <td>NaN</td>\n",
       "      <td>3.020000e+37</td>\n",
       "      <td>NaN</td>\n",
       "      <td>NaN</td>\n",
       "    </tr>\n",
       "    <tr>\n",
       "      <th>2020-08-08 19:53:48+00:00</th>\n",
       "      <td>5.443924e+09</td>\n",
       "      <td>4.830000e+37</td>\n",
       "      <td>NaN</td>\n",
       "      <td>www:/money/taxes/info-2020/states-that-dont-ta...</td>\n",
       "    </tr>\n",
       "    <tr>\n",
       "      <th>2020-08-08 19:32:18+00:00</th>\n",
       "      <td>NaN</td>\n",
       "      <td>4.830000e+37</td>\n",
       "      <td>NaN</td>\n",
       "      <td>games:/games/bubble-dragons</td>\n",
       "    </tr>\n",
       "    <tr>\n",
       "      <th>2020-08-08 19:03:08+00:00</th>\n",
       "      <td>5.131951e+09</td>\n",
       "      <td>3.050000e+37</td>\n",
       "      <td>34999201.0</td>\n",
       "      <td>games:/games/forty-thieves-solitaire</td>\n",
       "    </tr>\n",
       "    <tr>\n",
       "      <th>2020-08-08 19:37:28+00:00</th>\n",
       "      <td>1.473905e+09</td>\n",
       "      <td>4.860000e+37</td>\n",
       "      <td>94842213.0</td>\n",
       "      <td>games:/games/mahjongg-solitaire</td>\n",
       "    </tr>\n",
       "    <tr>\n",
       "      <th>...</th>\n",
       "      <td>...</td>\n",
       "      <td>...</td>\n",
       "      <td>...</td>\n",
       "      <td>...</td>\n",
       "    </tr>\n",
       "    <tr>\n",
       "      <th>2020-10-07 00:05:47+00:00</th>\n",
       "      <td>NaN</td>\n",
       "      <td>9.360000e+35</td>\n",
       "      <td>NaN</td>\n",
       "      <td>NaN</td>\n",
       "    </tr>\n",
       "    <tr>\n",
       "      <th>2020-10-07 00:19:40+00:00</th>\n",
       "      <td>NaN</td>\n",
       "      <td>1.420000e+35</td>\n",
       "      <td>NaN</td>\n",
       "      <td>NaN</td>\n",
       "    </tr>\n",
       "    <tr>\n",
       "      <th>2020-10-07 00:14:35+00:00</th>\n",
       "      <td>NaN</td>\n",
       "      <td>1.700000e+36</td>\n",
       "      <td>NaN</td>\n",
       "      <td>NaN</td>\n",
       "    </tr>\n",
       "    <tr>\n",
       "      <th>2020-10-07 00:00:27+00:00</th>\n",
       "      <td>NaN</td>\n",
       "      <td>1.930000e+36</td>\n",
       "      <td>96646832.0</td>\n",
       "      <td>games:/games/spider-solitaire</td>\n",
       "    </tr>\n",
       "    <tr>\n",
       "      <th>2020-10-07 00:11:07+00:00</th>\n",
       "      <td>4.015069e+09</td>\n",
       "      <td>2.030000e+36</td>\n",
       "      <td>61252.0</td>\n",
       "      <td>games:/games/mahjongg-toy-chest</td>\n",
       "    </tr>\n",
       "  </tbody>\n",
       "</table>\n",
       "<p>10000 rows × 4 columns</p>\n",
       "</div>"
      ],
      "text/plain": [
       "                              member_id    browser_id  register_id  \\\n",
       "date_time                                                            \n",
       "2020-08-08 19:09:26+00:00           NaN  3.020000e+37          NaN   \n",
       "2020-08-08 19:53:48+00:00  5.443924e+09  4.830000e+37          NaN   \n",
       "2020-08-08 19:32:18+00:00           NaN  4.830000e+37          NaN   \n",
       "2020-08-08 19:03:08+00:00  5.131951e+09  3.050000e+37   34999201.0   \n",
       "2020-08-08 19:37:28+00:00  1.473905e+09  4.860000e+37   94842213.0   \n",
       "...                                 ...           ...          ...   \n",
       "2020-10-07 00:05:47+00:00           NaN  9.360000e+35          NaN   \n",
       "2020-10-07 00:19:40+00:00           NaN  1.420000e+35          NaN   \n",
       "2020-10-07 00:14:35+00:00           NaN  1.700000e+36          NaN   \n",
       "2020-10-07 00:00:27+00:00           NaN  1.930000e+36   96646832.0   \n",
       "2020-10-07 00:11:07+00:00  4.015069e+09  2.030000e+36      61252.0   \n",
       "\n",
       "                                                                         url  \n",
       "date_time                                                                     \n",
       "2020-08-08 19:09:26+00:00                                                NaN  \n",
       "2020-08-08 19:53:48+00:00  www:/money/taxes/info-2020/states-that-dont-ta...  \n",
       "2020-08-08 19:32:18+00:00                        games:/games/bubble-dragons  \n",
       "2020-08-08 19:03:08+00:00               games:/games/forty-thieves-solitaire  \n",
       "2020-08-08 19:37:28+00:00                    games:/games/mahjongg-solitaire  \n",
       "...                                                                      ...  \n",
       "2020-10-07 00:05:47+00:00                                                NaN  \n",
       "2020-10-07 00:19:40+00:00                                                NaN  \n",
       "2020-10-07 00:14:35+00:00                                                NaN  \n",
       "2020-10-07 00:00:27+00:00                      games:/games/spider-solitaire  \n",
       "2020-10-07 00:11:07+00:00                    games:/games/mahjongg-toy-chest  \n",
       "\n",
       "[10000 rows x 4 columns]"
      ]
     },
     "execution_count": 16,
     "metadata": {},
     "output_type": "execute_result"
    }
   ],
   "source": [
    "data"
   ]
  },
  {
   "cell_type": "markdown",
   "metadata": {},
   "source": [
    "# Get data 7 days( in October)"
   ]
  },
  {
   "cell_type": "code",
   "execution_count": 17,
   "metadata": {},
   "outputs": [
    {
     "data": {
      "text/html": [
       "<div>\n",
       "<style scoped>\n",
       "    .dataframe tbody tr th:only-of-type {\n",
       "        vertical-align: middle;\n",
       "    }\n",
       "\n",
       "    .dataframe tbody tr th {\n",
       "        vertical-align: top;\n",
       "    }\n",
       "\n",
       "    .dataframe thead th {\n",
       "        text-align: right;\n",
       "    }\n",
       "</style>\n",
       "<table border=\"1\" class=\"dataframe\">\n",
       "  <thead>\n",
       "    <tr style=\"text-align: right;\">\n",
       "      <th></th>\n",
       "      <th>member_id</th>\n",
       "      <th>browser_id</th>\n",
       "      <th>register_id</th>\n",
       "      <th>url</th>\n",
       "    </tr>\n",
       "    <tr>\n",
       "      <th>date_time</th>\n",
       "      <th></th>\n",
       "      <th></th>\n",
       "      <th></th>\n",
       "      <th></th>\n",
       "    </tr>\n",
       "  </thead>\n",
       "  <tbody>\n",
       "    <tr>\n",
       "      <th>2020-10-07 00:21:05+00:00</th>\n",
       "      <td>NaN</td>\n",
       "      <td>4.030000e+19</td>\n",
       "      <td>NaN</td>\n",
       "      <td>NaN</td>\n",
       "    </tr>\n",
       "    <tr>\n",
       "      <th>2020-10-07 00:08:07+00:00</th>\n",
       "      <td>NaN</td>\n",
       "      <td>1.550000e+35</td>\n",
       "      <td>NaN</td>\n",
       "      <td>games:/games/classic-solitaire</td>\n",
       "    </tr>\n",
       "    <tr>\n",
       "      <th>2020-10-07 00:26:04+00:00</th>\n",
       "      <td>NaN</td>\n",
       "      <td>5.880000e+35</td>\n",
       "      <td>NaN</td>\n",
       "      <td>games:/games/scramble-words</td>\n",
       "    </tr>\n",
       "    <tr>\n",
       "      <th>2020-10-07 00:03:00+00:00</th>\n",
       "      <td>NaN</td>\n",
       "      <td>1.020000e+36</td>\n",
       "      <td>NaN</td>\n",
       "      <td>help:/s</td>\n",
       "    </tr>\n",
       "    <tr>\n",
       "      <th>2020-10-07 00:27:06+00:00</th>\n",
       "      <td>NaN</td>\n",
       "      <td>1.120000e+36</td>\n",
       "      <td>NaN</td>\n",
       "      <td>www:/espanol/salud/enfermedades-y-tratamientos...</td>\n",
       "    </tr>\n",
       "    <tr>\n",
       "      <th>...</th>\n",
       "      <td>...</td>\n",
       "      <td>...</td>\n",
       "      <td>...</td>\n",
       "      <td>...</td>\n",
       "    </tr>\n",
       "    <tr>\n",
       "      <th>2020-10-07 00:05:47+00:00</th>\n",
       "      <td>NaN</td>\n",
       "      <td>9.360000e+35</td>\n",
       "      <td>NaN</td>\n",
       "      <td>NaN</td>\n",
       "    </tr>\n",
       "    <tr>\n",
       "      <th>2020-10-07 00:19:40+00:00</th>\n",
       "      <td>NaN</td>\n",
       "      <td>1.420000e+35</td>\n",
       "      <td>NaN</td>\n",
       "      <td>NaN</td>\n",
       "    </tr>\n",
       "    <tr>\n",
       "      <th>2020-10-07 00:14:35+00:00</th>\n",
       "      <td>NaN</td>\n",
       "      <td>1.700000e+36</td>\n",
       "      <td>NaN</td>\n",
       "      <td>NaN</td>\n",
       "    </tr>\n",
       "    <tr>\n",
       "      <th>2020-10-07 00:00:27+00:00</th>\n",
       "      <td>NaN</td>\n",
       "      <td>1.930000e+36</td>\n",
       "      <td>96646832.0</td>\n",
       "      <td>games:/games/spider-solitaire</td>\n",
       "    </tr>\n",
       "    <tr>\n",
       "      <th>2020-10-07 00:11:07+00:00</th>\n",
       "      <td>4.015069e+09</td>\n",
       "      <td>2.030000e+36</td>\n",
       "      <td>61252.0</td>\n",
       "      <td>games:/games/mahjongg-toy-chest</td>\n",
       "    </tr>\n",
       "  </tbody>\n",
       "</table>\n",
       "<p>235 rows × 4 columns</p>\n",
       "</div>"
      ],
      "text/plain": [
       "                              member_id    browser_id  register_id  \\\n",
       "date_time                                                            \n",
       "2020-10-07 00:21:05+00:00           NaN  4.030000e+19          NaN   \n",
       "2020-10-07 00:08:07+00:00           NaN  1.550000e+35          NaN   \n",
       "2020-10-07 00:26:04+00:00           NaN  5.880000e+35          NaN   \n",
       "2020-10-07 00:03:00+00:00           NaN  1.020000e+36          NaN   \n",
       "2020-10-07 00:27:06+00:00           NaN  1.120000e+36          NaN   \n",
       "...                                 ...           ...          ...   \n",
       "2020-10-07 00:05:47+00:00           NaN  9.360000e+35          NaN   \n",
       "2020-10-07 00:19:40+00:00           NaN  1.420000e+35          NaN   \n",
       "2020-10-07 00:14:35+00:00           NaN  1.700000e+36          NaN   \n",
       "2020-10-07 00:00:27+00:00           NaN  1.930000e+36   96646832.0   \n",
       "2020-10-07 00:11:07+00:00  4.015069e+09  2.030000e+36      61252.0   \n",
       "\n",
       "                                                                         url  \n",
       "date_time                                                                     \n",
       "2020-10-07 00:21:05+00:00                                                NaN  \n",
       "2020-10-07 00:08:07+00:00                     games:/games/classic-solitaire  \n",
       "2020-10-07 00:26:04+00:00                        games:/games/scramble-words  \n",
       "2020-10-07 00:03:00+00:00                                            help:/s  \n",
       "2020-10-07 00:27:06+00:00  www:/espanol/salud/enfermedades-y-tratamientos...  \n",
       "...                                                                      ...  \n",
       "2020-10-07 00:05:47+00:00                                                NaN  \n",
       "2020-10-07 00:19:40+00:00                                                NaN  \n",
       "2020-10-07 00:14:35+00:00                                                NaN  \n",
       "2020-10-07 00:00:27+00:00                      games:/games/spider-solitaire  \n",
       "2020-10-07 00:11:07+00:00                    games:/games/mahjongg-toy-chest  \n",
       "\n",
       "[235 rows x 4 columns]"
      ]
     },
     "execution_count": 17,
     "metadata": {},
     "output_type": "execute_result"
    }
   ],
   "source": [
    "data.loc['2020-10']"
   ]
  },
  {
   "cell_type": "markdown",
   "metadata": {},
   "source": [
    "# Count avarage clicks in 7 days"
   ]
  },
  {
   "cell_type": "code",
   "execution_count": 18,
   "metadata": {},
   "outputs": [
    {
     "data": {
      "text/html": [
       "<div>\n",
       "<style scoped>\n",
       "    .dataframe tbody tr th:only-of-type {\n",
       "        vertical-align: middle;\n",
       "    }\n",
       "\n",
       "    .dataframe tbody tr th {\n",
       "        vertical-align: top;\n",
       "    }\n",
       "\n",
       "    .dataframe thead th {\n",
       "        text-align: right;\n",
       "    }\n",
       "</style>\n",
       "<table border=\"1\" class=\"dataframe\">\n",
       "  <thead>\n",
       "    <tr style=\"text-align: right;\">\n",
       "      <th></th>\n",
       "      <th>browser_id</th>\n",
       "      <th>register_id</th>\n",
       "      <th>url</th>\n",
       "    </tr>\n",
       "    <tr>\n",
       "      <th>member_id</th>\n",
       "      <th></th>\n",
       "      <th></th>\n",
       "      <th></th>\n",
       "    </tr>\n",
       "  </thead>\n",
       "  <tbody>\n",
       "    <tr>\n",
       "      <th>1.494339e+09</th>\n",
       "      <td>1</td>\n",
       "      <td>1</td>\n",
       "      <td>1</td>\n",
       "    </tr>\n",
       "    <tr>\n",
       "      <th>1.573928e+09</th>\n",
       "      <td>1</td>\n",
       "      <td>1</td>\n",
       "      <td>1</td>\n",
       "    </tr>\n",
       "    <tr>\n",
       "      <th>1.574918e+09</th>\n",
       "      <td>1</td>\n",
       "      <td>1</td>\n",
       "      <td>1</td>\n",
       "    </tr>\n",
       "    <tr>\n",
       "      <th>1.595560e+09</th>\n",
       "      <td>1</td>\n",
       "      <td>1</td>\n",
       "      <td>1</td>\n",
       "    </tr>\n",
       "    <tr>\n",
       "      <th>1.598820e+09</th>\n",
       "      <td>1</td>\n",
       "      <td>1</td>\n",
       "      <td>1</td>\n",
       "    </tr>\n",
       "    <tr>\n",
       "      <th>...</th>\n",
       "      <td>...</td>\n",
       "      <td>...</td>\n",
       "      <td>...</td>\n",
       "    </tr>\n",
       "    <tr>\n",
       "      <th>5.587037e+09</th>\n",
       "      <td>1</td>\n",
       "      <td>1</td>\n",
       "      <td>0</td>\n",
       "    </tr>\n",
       "    <tr>\n",
       "      <th>5.606023e+09</th>\n",
       "      <td>2</td>\n",
       "      <td>0</td>\n",
       "      <td>0</td>\n",
       "    </tr>\n",
       "    <tr>\n",
       "      <th>5.608787e+09</th>\n",
       "      <td>1</td>\n",
       "      <td>0</td>\n",
       "      <td>1</td>\n",
       "    </tr>\n",
       "    <tr>\n",
       "      <th>5.608883e+09</th>\n",
       "      <td>1</td>\n",
       "      <td>1</td>\n",
       "      <td>0</td>\n",
       "    </tr>\n",
       "    <tr>\n",
       "      <th>5.609399e+09</th>\n",
       "      <td>1</td>\n",
       "      <td>1</td>\n",
       "      <td>0</td>\n",
       "    </tr>\n",
       "  </tbody>\n",
       "</table>\n",
       "<p>63 rows × 3 columns</p>\n",
       "</div>"
      ],
      "text/plain": [
       "              browser_id  register_id  url\n",
       "member_id                                 \n",
       "1.494339e+09           1            1    1\n",
       "1.573928e+09           1            1    1\n",
       "1.574918e+09           1            1    1\n",
       "1.595560e+09           1            1    1\n",
       "1.598820e+09           1            1    1\n",
       "...                  ...          ...  ...\n",
       "5.587037e+09           1            1    0\n",
       "5.606023e+09           2            0    0\n",
       "5.608787e+09           1            0    1\n",
       "5.608883e+09           1            1    0\n",
       "5.609399e+09           1            1    0\n",
       "\n",
       "[63 rows x 3 columns]"
      ]
     },
     "execution_count": 18,
     "metadata": {},
     "output_type": "execute_result"
    }
   ],
   "source": [
    "data.loc['2020-10'].groupby('member_id').count()"
   ]
  },
  {
   "cell_type": "markdown",
   "metadata": {},
   "source": [
    "# Get data in 30 days"
   ]
  },
  {
   "cell_type": "code",
   "execution_count": 19,
   "metadata": {},
   "outputs": [
    {
     "data": {
      "text/html": [
       "<div>\n",
       "<style scoped>\n",
       "    .dataframe tbody tr th:only-of-type {\n",
       "        vertical-align: middle;\n",
       "    }\n",
       "\n",
       "    .dataframe tbody tr th {\n",
       "        vertical-align: top;\n",
       "    }\n",
       "\n",
       "    .dataframe thead th {\n",
       "        text-align: right;\n",
       "    }\n",
       "</style>\n",
       "<table border=\"1\" class=\"dataframe\">\n",
       "  <thead>\n",
       "    <tr style=\"text-align: right;\">\n",
       "      <th></th>\n",
       "      <th>member_id</th>\n",
       "      <th>browser_id</th>\n",
       "      <th>register_id</th>\n",
       "      <th>url</th>\n",
       "    </tr>\n",
       "    <tr>\n",
       "      <th>date_time</th>\n",
       "      <th></th>\n",
       "      <th></th>\n",
       "      <th></th>\n",
       "      <th></th>\n",
       "    </tr>\n",
       "  </thead>\n",
       "  <tbody>\n",
       "    <tr>\n",
       "      <th>2020-09-12 02:41:09+00:00</th>\n",
       "      <td>NaN</td>\n",
       "      <td>6.020000e+37</td>\n",
       "      <td>NaN</td>\n",
       "      <td>NaN</td>\n",
       "    </tr>\n",
       "    <tr>\n",
       "      <th>2020-09-12 02:46:58+00:00</th>\n",
       "      <td>NaN</td>\n",
       "      <td>6.020000e+37</td>\n",
       "      <td>NaN</td>\n",
       "      <td>NaN</td>\n",
       "    </tr>\n",
       "    <tr>\n",
       "      <th>2020-09-12 02:48:26+00:00</th>\n",
       "      <td>NaN</td>\n",
       "      <td>6.020000e+37</td>\n",
       "      <td>NaN</td>\n",
       "      <td>NaN</td>\n",
       "    </tr>\n",
       "    <tr>\n",
       "      <th>2020-09-12 02:49:11+00:00</th>\n",
       "      <td>NaN</td>\n",
       "      <td>6.020000e+37</td>\n",
       "      <td>NaN</td>\n",
       "      <td>NaN</td>\n",
       "    </tr>\n",
       "    <tr>\n",
       "      <th>2020-09-12 02:48:24+00:00</th>\n",
       "      <td>5.606521e+09</td>\n",
       "      <td>6.150000e+37</td>\n",
       "      <td>100435882.0</td>\n",
       "      <td>secure:/applications/user/membershipSuccess</td>\n",
       "    </tr>\n",
       "    <tr>\n",
       "      <th>...</th>\n",
       "      <td>...</td>\n",
       "      <td>...</td>\n",
       "      <td>...</td>\n",
       "      <td>...</td>\n",
       "    </tr>\n",
       "    <tr>\n",
       "      <th>2020-10-07 00:05:47+00:00</th>\n",
       "      <td>NaN</td>\n",
       "      <td>9.360000e+35</td>\n",
       "      <td>NaN</td>\n",
       "      <td>NaN</td>\n",
       "    </tr>\n",
       "    <tr>\n",
       "      <th>2020-10-07 00:19:40+00:00</th>\n",
       "      <td>NaN</td>\n",
       "      <td>1.420000e+35</td>\n",
       "      <td>NaN</td>\n",
       "      <td>NaN</td>\n",
       "    </tr>\n",
       "    <tr>\n",
       "      <th>2020-10-07 00:14:35+00:00</th>\n",
       "      <td>NaN</td>\n",
       "      <td>1.700000e+36</td>\n",
       "      <td>NaN</td>\n",
       "      <td>NaN</td>\n",
       "    </tr>\n",
       "    <tr>\n",
       "      <th>2020-10-07 00:00:27+00:00</th>\n",
       "      <td>NaN</td>\n",
       "      <td>1.930000e+36</td>\n",
       "      <td>96646832.0</td>\n",
       "      <td>games:/games/spider-solitaire</td>\n",
       "    </tr>\n",
       "    <tr>\n",
       "      <th>2020-10-07 00:11:07+00:00</th>\n",
       "      <td>4.015069e+09</td>\n",
       "      <td>2.030000e+36</td>\n",
       "      <td>61252.0</td>\n",
       "      <td>games:/games/mahjongg-toy-chest</td>\n",
       "    </tr>\n",
       "  </tbody>\n",
       "</table>\n",
       "<p>2871 rows × 4 columns</p>\n",
       "</div>"
      ],
      "text/plain": [
       "                              member_id    browser_id  register_id  \\\n",
       "date_time                                                            \n",
       "2020-09-12 02:41:09+00:00           NaN  6.020000e+37          NaN   \n",
       "2020-09-12 02:46:58+00:00           NaN  6.020000e+37          NaN   \n",
       "2020-09-12 02:48:26+00:00           NaN  6.020000e+37          NaN   \n",
       "2020-09-12 02:49:11+00:00           NaN  6.020000e+37          NaN   \n",
       "2020-09-12 02:48:24+00:00  5.606521e+09  6.150000e+37  100435882.0   \n",
       "...                                 ...           ...          ...   \n",
       "2020-10-07 00:05:47+00:00           NaN  9.360000e+35          NaN   \n",
       "2020-10-07 00:19:40+00:00           NaN  1.420000e+35          NaN   \n",
       "2020-10-07 00:14:35+00:00           NaN  1.700000e+36          NaN   \n",
       "2020-10-07 00:00:27+00:00           NaN  1.930000e+36   96646832.0   \n",
       "2020-10-07 00:11:07+00:00  4.015069e+09  2.030000e+36      61252.0   \n",
       "\n",
       "                                                                   url  \n",
       "date_time                                                               \n",
       "2020-09-12 02:41:09+00:00                                          NaN  \n",
       "2020-09-12 02:46:58+00:00                                          NaN  \n",
       "2020-09-12 02:48:26+00:00                                          NaN  \n",
       "2020-09-12 02:49:11+00:00                                          NaN  \n",
       "2020-09-12 02:48:24+00:00  secure:/applications/user/membershipSuccess  \n",
       "...                                                                ...  \n",
       "2020-10-07 00:05:47+00:00                                          NaN  \n",
       "2020-10-07 00:19:40+00:00                                          NaN  \n",
       "2020-10-07 00:14:35+00:00                                          NaN  \n",
       "2020-10-07 00:00:27+00:00                games:/games/spider-solitaire  \n",
       "2020-10-07 00:11:07+00:00              games:/games/mahjongg-toy-chest  \n",
       "\n",
       "[2871 rows x 4 columns]"
      ]
     },
     "execution_count": 19,
     "metadata": {},
     "output_type": "execute_result"
    }
   ],
   "source": [
    "data.loc['2020-09-07':'2020-10-07']"
   ]
  },
  {
   "cell_type": "markdown",
   "metadata": {},
   "source": [
    "# Count avarage clicks in 30 days"
   ]
  },
  {
   "cell_type": "code",
   "execution_count": 20,
   "metadata": {},
   "outputs": [
    {
     "data": {
      "text/html": [
       "<div>\n",
       "<style scoped>\n",
       "    .dataframe tbody tr th:only-of-type {\n",
       "        vertical-align: middle;\n",
       "    }\n",
       "\n",
       "    .dataframe tbody tr th {\n",
       "        vertical-align: top;\n",
       "    }\n",
       "\n",
       "    .dataframe thead th {\n",
       "        text-align: right;\n",
       "    }\n",
       "</style>\n",
       "<table border=\"1\" class=\"dataframe\">\n",
       "  <thead>\n",
       "    <tr style=\"text-align: right;\">\n",
       "      <th></th>\n",
       "      <th>browser_id</th>\n",
       "      <th>register_id</th>\n",
       "      <th>url</th>\n",
       "    </tr>\n",
       "    <tr>\n",
       "      <th>member_id</th>\n",
       "      <th></th>\n",
       "      <th></th>\n",
       "      <th></th>\n",
       "    </tr>\n",
       "  </thead>\n",
       "  <tbody>\n",
       "    <tr>\n",
       "      <th>1.243126e+09</th>\n",
       "      <td>2</td>\n",
       "      <td>0</td>\n",
       "      <td>1</td>\n",
       "    </tr>\n",
       "    <tr>\n",
       "      <th>1.376450e+09</th>\n",
       "      <td>1</td>\n",
       "      <td>0</td>\n",
       "      <td>1</td>\n",
       "    </tr>\n",
       "    <tr>\n",
       "      <th>1.407824e+09</th>\n",
       "      <td>1</td>\n",
       "      <td>1</td>\n",
       "      <td>0</td>\n",
       "    </tr>\n",
       "    <tr>\n",
       "      <th>1.426619e+09</th>\n",
       "      <td>1</td>\n",
       "      <td>0</td>\n",
       "      <td>1</td>\n",
       "    </tr>\n",
       "    <tr>\n",
       "      <th>1.426634e+09</th>\n",
       "      <td>2</td>\n",
       "      <td>2</td>\n",
       "      <td>2</td>\n",
       "    </tr>\n",
       "    <tr>\n",
       "      <th>...</th>\n",
       "      <td>...</td>\n",
       "      <td>...</td>\n",
       "      <td>...</td>\n",
       "    </tr>\n",
       "    <tr>\n",
       "      <th>5.608532e+09</th>\n",
       "      <td>1</td>\n",
       "      <td>0</td>\n",
       "      <td>0</td>\n",
       "    </tr>\n",
       "    <tr>\n",
       "      <th>5.608536e+09</th>\n",
       "      <td>2</td>\n",
       "      <td>1</td>\n",
       "      <td>1</td>\n",
       "    </tr>\n",
       "    <tr>\n",
       "      <th>5.608787e+09</th>\n",
       "      <td>1</td>\n",
       "      <td>0</td>\n",
       "      <td>1</td>\n",
       "    </tr>\n",
       "    <tr>\n",
       "      <th>5.608883e+09</th>\n",
       "      <td>1</td>\n",
       "      <td>1</td>\n",
       "      <td>0</td>\n",
       "    </tr>\n",
       "    <tr>\n",
       "      <th>5.609399e+09</th>\n",
       "      <td>1</td>\n",
       "      <td>1</td>\n",
       "      <td>0</td>\n",
       "    </tr>\n",
       "  </tbody>\n",
       "</table>\n",
       "<p>742 rows × 3 columns</p>\n",
       "</div>"
      ],
      "text/plain": [
       "              browser_id  register_id  url\n",
       "member_id                                 \n",
       "1.243126e+09           2            0    1\n",
       "1.376450e+09           1            0    1\n",
       "1.407824e+09           1            1    0\n",
       "1.426619e+09           1            0    1\n",
       "1.426634e+09           2            2    2\n",
       "...                  ...          ...  ...\n",
       "5.608532e+09           1            0    0\n",
       "5.608536e+09           2            1    1\n",
       "5.608787e+09           1            0    1\n",
       "5.608883e+09           1            1    0\n",
       "5.609399e+09           1            1    0\n",
       "\n",
       "[742 rows x 3 columns]"
      ]
     },
     "execution_count": 20,
     "metadata": {},
     "output_type": "execute_result"
    }
   ],
   "source": [
    "data.loc['2020-09-07':'2020-10-07'].groupby('member_id').count()"
   ]
  },
  {
   "cell_type": "markdown",
   "metadata": {},
   "source": [
    "# Time spent on website (average mins per day)."
   ]
  },
  {
   "cell_type": "code",
   "execution_count": 63,
   "metadata": {},
   "outputs": [],
   "source": [
    "days = data.index.floor('D').value_counts()\n",
    "days = days.index\n",
    "data_copy = data"
   ]
  },
  {
   "cell_type": "code",
   "execution_count": 64,
   "metadata": {},
   "outputs": [
    {
     "data": {
      "text/plain": [
       "DatetimeIndex(['2020-06-17 00:00:00+00:00', '2020-08-28 00:00:00+00:00',\n",
       "               '2020-09-22 00:00:00+00:00', '2020-09-15 00:00:00+00:00',\n",
       "               '2020-08-05 00:00:00+00:00', '2020-09-12 00:00:00+00:00',\n",
       "               '2020-09-02 00:00:00+00:00', '2020-05-16 00:00:00+00:00',\n",
       "               '2020-08-08 00:00:00+00:00', '2020-05-30 00:00:00+00:00',\n",
       "               '2020-06-06 00:00:00+00:00', '2020-05-18 00:00:00+00:00',\n",
       "               '2020-09-29 00:00:00+00:00', '2020-08-18 00:00:00+00:00',\n",
       "               '2020-07-11 00:00:00+00:00', '2020-07-21 00:00:00+00:00',\n",
       "               '2020-09-09 00:00:00+00:00', '2020-07-01 00:00:00+00:00',\n",
       "               '2020-07-18 00:00:00+00:00', '2020-10-07 00:00:00+00:00'],\n",
       "              dtype='datetime64[ns, UTC]', freq=None)"
      ]
     },
     "execution_count": 64,
     "metadata": {},
     "output_type": "execute_result"
    }
   ],
   "source": [
    "days"
   ]
  },
  {
   "cell_type": "code",
   "execution_count": null,
   "metadata": {},
   "outputs": [
    {
     "data": {
      "application/vnd.jupyter.widget-view+json": {
       "model_id": "788ecd2376bd4ce48437f777275b979f",
       "version_major": 2,
       "version_minor": 0
      },
      "text/plain": [
       "HBox(children=(IntProgress(value=0, max=20), HTML(value='')))"
      ]
     },
     "metadata": {},
     "output_type": "display_data"
    }
   ],
   "source": [
    "times = []\n",
    "for day in tqdm_notebook(days):\n",
    "    time_day = []\n",
    "    data_day = data.loc[str(day).split(' ')[0]]\n",
    "    for member in data_day['member_id']:\n",
    "        if member == np.nan:\n",
    "            times.append(0)\n",
    "            continue\n",
    "        temp = data_day[data_day['member_id']==member]\n",
    "        if len(temp) < 2:\n",
    "            times.append(0)\n",
    "        else:\n",
    "            temp = temp.sort_index()\n",
    "            start = temp.index[0]\n",
    "            \n",
    "            hour_start = int(str(start).split(' ')[-1].split(':')[0])\n",
    "            m_start = int(str(start).split(' ')[-1].split(':')[1])\n",
    "            s_start = int(str(start).split(' ')[-1].split(':')[-1].split('+')[0])\n",
    "#             end = temp.index[-1]\n",
    "            app = []\n",
    "            for k, end in enumerate(temp.index):\n",
    "                if k == 0:\n",
    "                    continue\n",
    "                hour_end = int(str(end).split(' ')[-1].split(':')[0])\n",
    "                m_end = int(str(end).split(' ')[-1].split(':')[1])\n",
    "                s_end = int(str(end).split(' ')[-1].split(':')[-1].split('+')[0])\n",
    "                app.append((hour_end*3600+ m_end*60+s_end )-(hour_start*3600+ m_start*60+s_start ))\n",
    "            if len(app) == 1:\n",
    "                times.append(app[0])\n",
    "                continue\n",
    "            new_list = []\n",
    "            sum = 0\n",
    "            tig = False\n",
    "            for k ,val in enumerate(app):\n",
    "                ix = 0\n",
    "                if val - app[ix] >30*60:\n",
    "                    if tig:\n",
    "                        sum+= val - app[ix]\n",
    "                    else:\n",
    "                        sum+=app[k-1]\n",
    "                        ix = k\n",
    "                    tig = True\n",
    "            if not tig:\n",
    "                sum = app[-1]\n",
    "            times.append(sum)\n",
    "#             print(new_list)\n",
    "# data_copy['second_per_day'] = times"
   ]
  },
  {
   "cell_type": "code",
   "execution_count": 90,
   "metadata": {},
   "outputs": [
    {
     "data": {
      "text/plain": [
       "5520"
      ]
     },
     "execution_count": 90,
     "metadata": {},
     "output_type": "execute_result"
    }
   ],
   "source": [
    "max(times)"
   ]
  },
  {
   "cell_type": "code",
   "execution_count": 24,
   "metadata": {},
   "outputs": [
    {
     "data": {
      "text/html": [
       "<div>\n",
       "<style scoped>\n",
       "    .dataframe tbody tr th:only-of-type {\n",
       "        vertical-align: middle;\n",
       "    }\n",
       "\n",
       "    .dataframe tbody tr th {\n",
       "        vertical-align: top;\n",
       "    }\n",
       "\n",
       "    .dataframe thead th {\n",
       "        text-align: right;\n",
       "    }\n",
       "</style>\n",
       "<table border=\"1\" class=\"dataframe\">\n",
       "  <thead>\n",
       "    <tr style=\"text-align: right;\">\n",
       "      <th></th>\n",
       "      <th>member_id</th>\n",
       "      <th>browser_id</th>\n",
       "      <th>register_id</th>\n",
       "      <th>url</th>\n",
       "      <th>second_per_day</th>\n",
       "    </tr>\n",
       "    <tr>\n",
       "      <th>date_time</th>\n",
       "      <th></th>\n",
       "      <th></th>\n",
       "      <th></th>\n",
       "      <th></th>\n",
       "      <th></th>\n",
       "    </tr>\n",
       "  </thead>\n",
       "  <tbody>\n",
       "    <tr>\n",
       "      <th>2020-08-08 19:09:26+00:00</th>\n",
       "      <td>NaN</td>\n",
       "      <td>3.020000e+37</td>\n",
       "      <td>NaN</td>\n",
       "      <td>NaN</td>\n",
       "      <td>660</td>\n",
       "    </tr>\n",
       "    <tr>\n",
       "      <th>2020-08-08 19:53:48+00:00</th>\n",
       "      <td>5.443924e+09</td>\n",
       "      <td>4.830000e+37</td>\n",
       "      <td>NaN</td>\n",
       "      <td>www:/money/taxes/info-2020/states-that-dont-ta...</td>\n",
       "      <td>0</td>\n",
       "    </tr>\n",
       "    <tr>\n",
       "      <th>2020-08-08 19:32:18+00:00</th>\n",
       "      <td>NaN</td>\n",
       "      <td>4.830000e+37</td>\n",
       "      <td>NaN</td>\n",
       "      <td>games:/games/bubble-dragons</td>\n",
       "      <td>0</td>\n",
       "    </tr>\n",
       "    <tr>\n",
       "      <th>2020-08-08 19:03:08+00:00</th>\n",
       "      <td>5.131951e+09</td>\n",
       "      <td>3.050000e+37</td>\n",
       "      <td>34999201.0</td>\n",
       "      <td>games:/games/forty-thieves-solitaire</td>\n",
       "      <td>0</td>\n",
       "    </tr>\n",
       "    <tr>\n",
       "      <th>2020-08-08 19:37:28+00:00</th>\n",
       "      <td>1.473905e+09</td>\n",
       "      <td>4.860000e+37</td>\n",
       "      <td>94842213.0</td>\n",
       "      <td>games:/games/mahjongg-solitaire</td>\n",
       "      <td>0</td>\n",
       "    </tr>\n",
       "  </tbody>\n",
       "</table>\n",
       "</div>"
      ],
      "text/plain": [
       "                              member_id    browser_id  register_id  \\\n",
       "date_time                                                            \n",
       "2020-08-08 19:09:26+00:00           NaN  3.020000e+37          NaN   \n",
       "2020-08-08 19:53:48+00:00  5.443924e+09  4.830000e+37          NaN   \n",
       "2020-08-08 19:32:18+00:00           NaN  4.830000e+37          NaN   \n",
       "2020-08-08 19:03:08+00:00  5.131951e+09  3.050000e+37   34999201.0   \n",
       "2020-08-08 19:37:28+00:00  1.473905e+09  4.860000e+37   94842213.0   \n",
       "\n",
       "                                                                         url  \\\n",
       "date_time                                                                      \n",
       "2020-08-08 19:09:26+00:00                                                NaN   \n",
       "2020-08-08 19:53:48+00:00  www:/money/taxes/info-2020/states-that-dont-ta...   \n",
       "2020-08-08 19:32:18+00:00                        games:/games/bubble-dragons   \n",
       "2020-08-08 19:03:08+00:00               games:/games/forty-thieves-solitaire   \n",
       "2020-08-08 19:37:28+00:00                    games:/games/mahjongg-solitaire   \n",
       "\n",
       "                           second_per_day  \n",
       "date_time                                  \n",
       "2020-08-08 19:09:26+00:00             660  \n",
       "2020-08-08 19:53:48+00:00               0  \n",
       "2020-08-08 19:32:18+00:00               0  \n",
       "2020-08-08 19:03:08+00:00               0  \n",
       "2020-08-08 19:37:28+00:00               0  "
      ]
     },
     "execution_count": 24,
     "metadata": {},
     "output_type": "execute_result"
    }
   ],
   "source": [
    "data_copy.head()"
   ]
  },
  {
   "cell_type": "markdown",
   "metadata": {},
   "source": [
    "# Web content channel each person clicked (by using url column)"
   ]
  },
  {
   "cell_type": "code",
   "execution_count": 25,
   "metadata": {},
   "outputs": [
    {
     "data": {
      "text/html": [
       "<div>\n",
       "<style scoped>\n",
       "    .dataframe tbody tr th:only-of-type {\n",
       "        vertical-align: middle;\n",
       "    }\n",
       "\n",
       "    .dataframe tbody tr th {\n",
       "        vertical-align: top;\n",
       "    }\n",
       "\n",
       "    .dataframe thead th {\n",
       "        text-align: right;\n",
       "    }\n",
       "</style>\n",
       "<table border=\"1\" class=\"dataframe\">\n",
       "  <thead>\n",
       "    <tr style=\"text-align: right;\">\n",
       "      <th></th>\n",
       "      <th>member_id</th>\n",
       "      <th>browser_id</th>\n",
       "      <th>register_id</th>\n",
       "      <th>second_per_day</th>\n",
       "    </tr>\n",
       "    <tr>\n",
       "      <th>url</th>\n",
       "      <th></th>\n",
       "      <th></th>\n",
       "      <th></th>\n",
       "      <th></th>\n",
       "    </tr>\n",
       "  </thead>\n",
       "  <tbody>\n",
       "    <tr>\n",
       "      <th>aarp:/Events/Register/GroupReg.aspx</th>\n",
       "      <td>0</td>\n",
       "      <td>2</td>\n",
       "      <td>0</td>\n",
       "      <td>2</td>\n",
       "    </tr>\n",
       "    <tr>\n",
       "      <th>aarp:/Events/Register/InformationPage.aspx</th>\n",
       "      <td>0</td>\n",
       "      <td>1</td>\n",
       "      <td>0</td>\n",
       "      <td>1</td>\n",
       "    </tr>\n",
       "    <tr>\n",
       "      <th>aarp:/event/3e200b2f-57ea-4857-a54f-c5d1394cae81/regProcessStep1</th>\n",
       "      <td>0</td>\n",
       "      <td>1</td>\n",
       "      <td>0</td>\n",
       "      <td>1</td>\n",
       "    </tr>\n",
       "    <tr>\n",
       "      <th>aarp:/events/Registrations/MyRegistration.aspx</th>\n",
       "      <td>0</td>\n",
       "      <td>2</td>\n",
       "      <td>0</td>\n",
       "      <td>2</td>\n",
       "    </tr>\n",
       "    <tr>\n",
       "      <th>aarp:/events/aarp-co-arvada-center-virtual-music-series-oct-nov-2020/event-summary-21acd784ade04defb0f7c2c8f78f8737.aspx</th>\n",
       "      <td>0</td>\n",
       "      <td>1</td>\n",
       "      <td>0</td>\n",
       "      <td>1</td>\n",
       "    </tr>\n",
       "    <tr>\n",
       "      <th>...</th>\n",
       "      <td>...</td>\n",
       "      <td>...</td>\n",
       "      <td>...</td>\n",
       "      <td>...</td>\n",
       "    </tr>\n",
       "    <tr>\n",
       "      <th>www:/work/working-at-50-plus/info-2020/coronavirus-delay-retirement.html</th>\n",
       "      <td>0</td>\n",
       "      <td>1</td>\n",
       "      <td>0</td>\n",
       "      <td>1</td>\n",
       "    </tr>\n",
       "    <tr>\n",
       "      <th>www:/work/working-at-50-plus/info-2020/coronavirus-early-retirement.html</th>\n",
       "      <td>0</td>\n",
       "      <td>1</td>\n",
       "      <td>0</td>\n",
       "      <td>1</td>\n",
       "    </tr>\n",
       "    <tr>\n",
       "      <th>www:/work/working-at-50-plus/info-2020/lgbt-supreme-court-ruling.html</th>\n",
       "      <td>0</td>\n",
       "      <td>1</td>\n",
       "      <td>0</td>\n",
       "      <td>1</td>\n",
       "    </tr>\n",
       "    <tr>\n",
       "      <th>www:/work/working-at-50-plus/info-2020/teachers-coronavirus-risk.html</th>\n",
       "      <td>0</td>\n",
       "      <td>1</td>\n",
       "      <td>0</td>\n",
       "      <td>1</td>\n",
       "    </tr>\n",
       "    <tr>\n",
       "      <th>www:/ws/save-games</th>\n",
       "      <td>2</td>\n",
       "      <td>4</td>\n",
       "      <td>2</td>\n",
       "      <td>4</td>\n",
       "    </tr>\n",
       "  </tbody>\n",
       "</table>\n",
       "<p>1375 rows × 4 columns</p>\n",
       "</div>"
      ],
      "text/plain": [
       "                                                    member_id  browser_id  \\\n",
       "url                                                                         \n",
       "aarp:/Events/Register/GroupReg.aspx                         0           2   \n",
       "aarp:/Events/Register/InformationPage.aspx                  0           1   \n",
       "aarp:/event/3e200b2f-57ea-4857-a54f-c5d1394cae8...          0           1   \n",
       "aarp:/events/Registrations/MyRegistration.aspx              0           2   \n",
       "aarp:/events/aarp-co-arvada-center-virtual-musi...          0           1   \n",
       "...                                                       ...         ...   \n",
       "www:/work/working-at-50-plus/info-2020/coronavi...          0           1   \n",
       "www:/work/working-at-50-plus/info-2020/coronavi...          0           1   \n",
       "www:/work/working-at-50-plus/info-2020/lgbt-sup...          0           1   \n",
       "www:/work/working-at-50-plus/info-2020/teachers...          0           1   \n",
       "www:/ws/save-games                                          2           4   \n",
       "\n",
       "                                                    register_id  \\\n",
       "url                                                               \n",
       "aarp:/Events/Register/GroupReg.aspx                           0   \n",
       "aarp:/Events/Register/InformationPage.aspx                    0   \n",
       "aarp:/event/3e200b2f-57ea-4857-a54f-c5d1394cae8...            0   \n",
       "aarp:/events/Registrations/MyRegistration.aspx                0   \n",
       "aarp:/events/aarp-co-arvada-center-virtual-musi...            0   \n",
       "...                                                         ...   \n",
       "www:/work/working-at-50-plus/info-2020/coronavi...            0   \n",
       "www:/work/working-at-50-plus/info-2020/coronavi...            0   \n",
       "www:/work/working-at-50-plus/info-2020/lgbt-sup...            0   \n",
       "www:/work/working-at-50-plus/info-2020/teachers...            0   \n",
       "www:/ws/save-games                                            2   \n",
       "\n",
       "                                                    second_per_day  \n",
       "url                                                                 \n",
       "aarp:/Events/Register/GroupReg.aspx                              2  \n",
       "aarp:/Events/Register/InformationPage.aspx                       1  \n",
       "aarp:/event/3e200b2f-57ea-4857-a54f-c5d1394cae8...               1  \n",
       "aarp:/events/Registrations/MyRegistration.aspx                   2  \n",
       "aarp:/events/aarp-co-arvada-center-virtual-musi...               1  \n",
       "...                                                            ...  \n",
       "www:/work/working-at-50-plus/info-2020/coronavi...               1  \n",
       "www:/work/working-at-50-plus/info-2020/coronavi...               1  \n",
       "www:/work/working-at-50-plus/info-2020/lgbt-sup...               1  \n",
       "www:/work/working-at-50-plus/info-2020/teachers...               1  \n",
       "www:/ws/save-games                                               4  \n",
       "\n",
       "[1375 rows x 4 columns]"
      ]
     },
     "execution_count": 25,
     "metadata": {},
     "output_type": "execute_result"
    }
   ],
   "source": [
    "data.groupby('url').count()"
   ]
  },
  {
   "cell_type": "markdown",
   "metadata": {},
   "source": [
    "# 3.\tAnswer these questions:"
   ]
  },
  {
   "cell_type": "markdown",
   "metadata": {},
   "source": [
    "\n",
    "•\tWhich content channel on the website people visited most?\n",
    "\n",
    "•\tPick two web contents and find out different profiles of these two groups of visitors. For example, assuming Health and Member Benefits are two popular web contents. Can you find out different web behaviors (such as total number of clicks) or different distributions (such as % of members or % of registrants) from visitors who visited these two channels? \n",
    "\n",
    "\n",
    "•\tTo build a predictive model to target certain group of online visitors, we need a better set of data to describe individual’s web behaviors (more than variables from question 2). What else variables you can create from the existing five (dummy, numeric or characteristic variables derived from these five)?\n"
   ]
  },
  {
   "cell_type": "markdown",
   "metadata": {},
   "source": [
    "# Which content channel on the website people visited most?"
   ]
  },
  {
   "cell_type": "code",
   "execution_count": 26,
   "metadata": {},
   "outputs": [
    {
     "data": {
      "text/html": [
       "<div>\n",
       "<style scoped>\n",
       "    .dataframe tbody tr th:only-of-type {\n",
       "        vertical-align: middle;\n",
       "    }\n",
       "\n",
       "    .dataframe tbody tr th {\n",
       "        vertical-align: top;\n",
       "    }\n",
       "\n",
       "    .dataframe thead th {\n",
       "        text-align: right;\n",
       "    }\n",
       "</style>\n",
       "<table border=\"1\" class=\"dataframe\">\n",
       "  <thead>\n",
       "    <tr style=\"text-align: right;\">\n",
       "      <th></th>\n",
       "      <th>member_id</th>\n",
       "      <th>browser_id</th>\n",
       "      <th>register_id</th>\n",
       "      <th>second_per_day</th>\n",
       "    </tr>\n",
       "    <tr>\n",
       "      <th>url</th>\n",
       "      <th></th>\n",
       "      <th></th>\n",
       "      <th></th>\n",
       "      <th></th>\n",
       "    </tr>\n",
       "  </thead>\n",
       "  <tbody>\n",
       "    <tr>\n",
       "      <th>games:/games/classic-solitaire</th>\n",
       "      <td>71</td>\n",
       "      <td>192</td>\n",
       "      <td>56</td>\n",
       "      <td>192</td>\n",
       "    </tr>\n",
       "    <tr>\n",
       "      <th>games:/games/mahjongg-solitaire</th>\n",
       "      <td>56</td>\n",
       "      <td>189</td>\n",
       "      <td>39</td>\n",
       "      <td>189</td>\n",
       "    </tr>\n",
       "    <tr>\n",
       "      <th>games:</th>\n",
       "      <td>53</td>\n",
       "      <td>133</td>\n",
       "      <td>41</td>\n",
       "      <td>133</td>\n",
       "    </tr>\n",
       "    <tr>\n",
       "      <th>games:/games/klondike-solitaire</th>\n",
       "      <td>44</td>\n",
       "      <td>131</td>\n",
       "      <td>37</td>\n",
       "      <td>131</td>\n",
       "    </tr>\n",
       "    <tr>\n",
       "      <th>games:/games/10-by-10</th>\n",
       "      <td>36</td>\n",
       "      <td>124</td>\n",
       "      <td>32</td>\n",
       "      <td>124</td>\n",
       "    </tr>\n",
       "    <tr>\n",
       "      <th>...</th>\n",
       "      <td>...</td>\n",
       "      <td>...</td>\n",
       "      <td>...</td>\n",
       "      <td>...</td>\n",
       "    </tr>\n",
       "    <tr>\n",
       "      <th>www:/health/conditions-treatments/info-02-2013/high-blood-pressure-quiz.html#quest6</th>\n",
       "      <td>1</td>\n",
       "      <td>1</td>\n",
       "      <td>1</td>\n",
       "      <td>1</td>\n",
       "    </tr>\n",
       "    <tr>\n",
       "      <th>www:/health/conditions-treatments/info-03-2013/osteoporosis-prevention-quiz.html#quest6</th>\n",
       "      <td>1</td>\n",
       "      <td>1</td>\n",
       "      <td>1</td>\n",
       "      <td>1</td>\n",
       "    </tr>\n",
       "    <tr>\n",
       "      <th>www:/health/conditions-treatments/info-04-2012/reasons-to-donate-blood.html</th>\n",
       "      <td>0</td>\n",
       "      <td>1</td>\n",
       "      <td>0</td>\n",
       "      <td>1</td>\n",
       "    </tr>\n",
       "    <tr>\n",
       "      <th>www:/health/conditions-treatments/info-04-2013/copd-symptoms-treatments-quiz.html#quest2</th>\n",
       "      <td>1</td>\n",
       "      <td>1</td>\n",
       "      <td>1</td>\n",
       "      <td>1</td>\n",
       "    </tr>\n",
       "    <tr>\n",
       "      <th>www:/espanol/turismo/consejos-para-viajar/info-2020/dia-del-museo-gratis-entradas-gratuitas.html</th>\n",
       "      <td>0</td>\n",
       "      <td>1</td>\n",
       "      <td>0</td>\n",
       "      <td>1</td>\n",
       "    </tr>\n",
       "  </tbody>\n",
       "</table>\n",
       "<p>1375 rows × 4 columns</p>\n",
       "</div>"
      ],
      "text/plain": [
       "                                                    member_id  browser_id  \\\n",
       "url                                                                         \n",
       "games:/games/classic-solitaire                             71         192   \n",
       "games:/games/mahjongg-solitaire                            56         189   \n",
       "games:                                                     53         133   \n",
       "games:/games/klondike-solitaire                            44         131   \n",
       "games:/games/10-by-10                                      36         124   \n",
       "...                                                       ...         ...   \n",
       "www:/health/conditions-treatments/info-02-2013/...          1           1   \n",
       "www:/health/conditions-treatments/info-03-2013/...          1           1   \n",
       "www:/health/conditions-treatments/info-04-2012/...          0           1   \n",
       "www:/health/conditions-treatments/info-04-2013/...          1           1   \n",
       "www:/espanol/turismo/consejos-para-viajar/info-...          0           1   \n",
       "\n",
       "                                                    register_id  \\\n",
       "url                                                               \n",
       "games:/games/classic-solitaire                               56   \n",
       "games:/games/mahjongg-solitaire                              39   \n",
       "games:                                                       41   \n",
       "games:/games/klondike-solitaire                              37   \n",
       "games:/games/10-by-10                                        32   \n",
       "...                                                         ...   \n",
       "www:/health/conditions-treatments/info-02-2013/...            1   \n",
       "www:/health/conditions-treatments/info-03-2013/...            1   \n",
       "www:/health/conditions-treatments/info-04-2012/...            0   \n",
       "www:/health/conditions-treatments/info-04-2013/...            1   \n",
       "www:/espanol/turismo/consejos-para-viajar/info-...            0   \n",
       "\n",
       "                                                    second_per_day  \n",
       "url                                                                 \n",
       "games:/games/classic-solitaire                                 192  \n",
       "games:/games/mahjongg-solitaire                                189  \n",
       "games:                                                         133  \n",
       "games:/games/klondike-solitaire                                131  \n",
       "games:/games/10-by-10                                          124  \n",
       "...                                                            ...  \n",
       "www:/health/conditions-treatments/info-02-2013/...               1  \n",
       "www:/health/conditions-treatments/info-03-2013/...               1  \n",
       "www:/health/conditions-treatments/info-04-2012/...               1  \n",
       "www:/health/conditions-treatments/info-04-2013/...               1  \n",
       "www:/espanol/turismo/consejos-para-viajar/info-...               1  \n",
       "\n",
       "[1375 rows x 4 columns]"
      ]
     },
     "execution_count": 26,
     "metadata": {},
     "output_type": "execute_result"
    }
   ],
   "source": [
    "data.groupby('url').count().sort_values(['browser_id'], ascending=False)"
   ]
  },
  {
   "cell_type": "code",
   "execution_count": 27,
   "metadata": {},
   "outputs": [
    {
     "name": "stdout",
     "output_type": "stream",
     "text": [
      "content channel on the website people visited most :  games:/games/classic-solitaire\n"
     ]
    }
   ],
   "source": [
    "print('content channel on the website people visited most : ', data.groupby('url').count().sort_values(['browser_id'], ascending=False).index[0])"
   ]
  },
  {
   "cell_type": "markdown",
   "metadata": {},
   "source": [
    "# Choose Health website to analysing"
   ]
  },
  {
   "cell_type": "code",
   "execution_count": 28,
   "metadata": {},
   "outputs": [],
   "source": [
    "health = data[data['url'].str.contains('www:/health/').fillna(False)]"
   ]
  },
  {
   "cell_type": "code",
   "execution_count": 29,
   "metadata": {},
   "outputs": [
    {
     "data": {
      "text/html": [
       "<div>\n",
       "<style scoped>\n",
       "    .dataframe tbody tr th:only-of-type {\n",
       "        vertical-align: middle;\n",
       "    }\n",
       "\n",
       "    .dataframe tbody tr th {\n",
       "        vertical-align: top;\n",
       "    }\n",
       "\n",
       "    .dataframe thead th {\n",
       "        text-align: right;\n",
       "    }\n",
       "</style>\n",
       "<table border=\"1\" class=\"dataframe\">\n",
       "  <thead>\n",
       "    <tr style=\"text-align: right;\">\n",
       "      <th></th>\n",
       "      <th>member_id</th>\n",
       "      <th>browser_id</th>\n",
       "      <th>register_id</th>\n",
       "      <th>url</th>\n",
       "      <th>second_per_day</th>\n",
       "    </tr>\n",
       "    <tr>\n",
       "      <th>date_time</th>\n",
       "      <th></th>\n",
       "      <th></th>\n",
       "      <th></th>\n",
       "      <th></th>\n",
       "      <th></th>\n",
       "    </tr>\n",
       "  </thead>\n",
       "  <tbody>\n",
       "    <tr>\n",
       "      <th>2020-08-08 19:57:30+00:00</th>\n",
       "      <td>NaN</td>\n",
       "      <td>4.960000e+36</td>\n",
       "      <td>NaN</td>\n",
       "      <td>www:/health/conditions-treatments/info-2020/av...</td>\n",
       "      <td>0</td>\n",
       "    </tr>\n",
       "    <tr>\n",
       "      <th>2020-08-08 19:34:55+00:00</th>\n",
       "      <td>4.962938e+09</td>\n",
       "      <td>4.980000e+37</td>\n",
       "      <td>19620592.0</td>\n",
       "      <td>www:/health/healthy-living/info-2019/how-well-...</td>\n",
       "      <td>0</td>\n",
       "    </tr>\n",
       "    <tr>\n",
       "      <th>2020-08-08 19:36:35+00:00</th>\n",
       "      <td>NaN</td>\n",
       "      <td>5.170000e+37</td>\n",
       "      <td>NaN</td>\n",
       "      <td>www:/health/conditions-treatments/info-2020/av...</td>\n",
       "      <td>60</td>\n",
       "    </tr>\n",
       "    <tr>\n",
       "      <th>2020-08-08 19:39:00+00:00</th>\n",
       "      <td>NaN</td>\n",
       "      <td>4.840000e+37</td>\n",
       "      <td>NaN</td>\n",
       "      <td>www:/health/conditions-treatments/info-2020/ep...</td>\n",
       "      <td>0</td>\n",
       "    </tr>\n",
       "    <tr>\n",
       "      <th>2020-08-08 19:42:28+00:00</th>\n",
       "      <td>5.517609e+09</td>\n",
       "      <td>4.870000e+36</td>\n",
       "      <td>NaN</td>\n",
       "      <td>www:/health/healthy-living/info-2020/how-to-lo...</td>\n",
       "      <td>0</td>\n",
       "    </tr>\n",
       "    <tr>\n",
       "      <th>...</th>\n",
       "      <td>...</td>\n",
       "      <td>...</td>\n",
       "      <td>...</td>\n",
       "      <td>...</td>\n",
       "      <td>...</td>\n",
       "    </tr>\n",
       "    <tr>\n",
       "      <th>2020-10-07 00:00:47+00:00</th>\n",
       "      <td>5.462046e+09</td>\n",
       "      <td>8.160000e+36</td>\n",
       "      <td>NaN</td>\n",
       "      <td>www:/health/conditions-treatments/info-2020/dr...</td>\n",
       "      <td>0</td>\n",
       "    </tr>\n",
       "    <tr>\n",
       "      <th>2020-10-07 00:20:17+00:00</th>\n",
       "      <td>3.041227e+09</td>\n",
       "      <td>7.490000e+35</td>\n",
       "      <td>NaN</td>\n",
       "      <td>www:/health/conditions-treatments/info-2019/ey...</td>\n",
       "      <td>0</td>\n",
       "    </tr>\n",
       "    <tr>\n",
       "      <th>2020-10-07 00:12:49+00:00</th>\n",
       "      <td>4.021587e+09</td>\n",
       "      <td>6.870000e+36</td>\n",
       "      <td>94347645.0</td>\n",
       "      <td>www:/health/medicare-insurance/info-2014/medic...</td>\n",
       "      <td>240</td>\n",
       "    </tr>\n",
       "    <tr>\n",
       "      <th>2020-10-07 00:16:00+00:00</th>\n",
       "      <td>4.021587e+09</td>\n",
       "      <td>6.870000e+36</td>\n",
       "      <td>94347645.0</td>\n",
       "      <td>www:/health/drugs-supplements/info-07-2013/vit...</td>\n",
       "      <td>240</td>\n",
       "    </tr>\n",
       "    <tr>\n",
       "      <th>2020-10-07 00:13:51+00:00</th>\n",
       "      <td>NaN</td>\n",
       "      <td>8.110000e+36</td>\n",
       "      <td>NaN</td>\n",
       "      <td>www:/health/conditions-treatments/info-2017/fo...</td>\n",
       "      <td>0</td>\n",
       "    </tr>\n",
       "  </tbody>\n",
       "</table>\n",
       "<p>782 rows × 5 columns</p>\n",
       "</div>"
      ],
      "text/plain": [
       "                              member_id    browser_id  register_id  \\\n",
       "date_time                                                            \n",
       "2020-08-08 19:57:30+00:00           NaN  4.960000e+36          NaN   \n",
       "2020-08-08 19:34:55+00:00  4.962938e+09  4.980000e+37   19620592.0   \n",
       "2020-08-08 19:36:35+00:00           NaN  5.170000e+37          NaN   \n",
       "2020-08-08 19:39:00+00:00           NaN  4.840000e+37          NaN   \n",
       "2020-08-08 19:42:28+00:00  5.517609e+09  4.870000e+36          NaN   \n",
       "...                                 ...           ...          ...   \n",
       "2020-10-07 00:00:47+00:00  5.462046e+09  8.160000e+36          NaN   \n",
       "2020-10-07 00:20:17+00:00  3.041227e+09  7.490000e+35          NaN   \n",
       "2020-10-07 00:12:49+00:00  4.021587e+09  6.870000e+36   94347645.0   \n",
       "2020-10-07 00:16:00+00:00  4.021587e+09  6.870000e+36   94347645.0   \n",
       "2020-10-07 00:13:51+00:00           NaN  8.110000e+36          NaN   \n",
       "\n",
       "                                                                         url  \\\n",
       "date_time                                                                      \n",
       "2020-08-08 19:57:30+00:00  www:/health/conditions-treatments/info-2020/av...   \n",
       "2020-08-08 19:34:55+00:00  www:/health/healthy-living/info-2019/how-well-...   \n",
       "2020-08-08 19:36:35+00:00  www:/health/conditions-treatments/info-2020/av...   \n",
       "2020-08-08 19:39:00+00:00  www:/health/conditions-treatments/info-2020/ep...   \n",
       "2020-08-08 19:42:28+00:00  www:/health/healthy-living/info-2020/how-to-lo...   \n",
       "...                                                                      ...   \n",
       "2020-10-07 00:00:47+00:00  www:/health/conditions-treatments/info-2020/dr...   \n",
       "2020-10-07 00:20:17+00:00  www:/health/conditions-treatments/info-2019/ey...   \n",
       "2020-10-07 00:12:49+00:00  www:/health/medicare-insurance/info-2014/medic...   \n",
       "2020-10-07 00:16:00+00:00  www:/health/drugs-supplements/info-07-2013/vit...   \n",
       "2020-10-07 00:13:51+00:00  www:/health/conditions-treatments/info-2017/fo...   \n",
       "\n",
       "                           second_per_day  \n",
       "date_time                                  \n",
       "2020-08-08 19:57:30+00:00               0  \n",
       "2020-08-08 19:34:55+00:00               0  \n",
       "2020-08-08 19:36:35+00:00              60  \n",
       "2020-08-08 19:39:00+00:00               0  \n",
       "2020-08-08 19:42:28+00:00               0  \n",
       "...                                   ...  \n",
       "2020-10-07 00:00:47+00:00               0  \n",
       "2020-10-07 00:20:17+00:00               0  \n",
       "2020-10-07 00:12:49+00:00             240  \n",
       "2020-10-07 00:16:00+00:00             240  \n",
       "2020-10-07 00:13:51+00:00               0  \n",
       "\n",
       "[782 rows x 5 columns]"
      ]
     },
     "execution_count": 29,
     "metadata": {},
     "output_type": "execute_result"
    }
   ],
   "source": [
    "health"
   ]
  },
  {
   "cell_type": "code",
   "execution_count": 30,
   "metadata": {},
   "outputs": [
    {
     "data": {
      "text/html": [
       "<div>\n",
       "<style scoped>\n",
       "    .dataframe tbody tr th:only-of-type {\n",
       "        vertical-align: middle;\n",
       "    }\n",
       "\n",
       "    .dataframe tbody tr th {\n",
       "        vertical-align: top;\n",
       "    }\n",
       "\n",
       "    .dataframe thead th {\n",
       "        text-align: right;\n",
       "    }\n",
       "</style>\n",
       "<table border=\"1\" class=\"dataframe\">\n",
       "  <thead>\n",
       "    <tr style=\"text-align: right;\">\n",
       "      <th></th>\n",
       "      <th>member_id</th>\n",
       "      <th>browser_id</th>\n",
       "      <th>register_id</th>\n",
       "      <th>second_per_day</th>\n",
       "    </tr>\n",
       "  </thead>\n",
       "  <tbody>\n",
       "    <tr>\n",
       "      <th>count</th>\n",
       "      <td>3.180000e+02</td>\n",
       "      <td>7.820000e+02</td>\n",
       "      <td>1.420000e+02</td>\n",
       "      <td>782.000000</td>\n",
       "    </tr>\n",
       "    <tr>\n",
       "      <th>mean</th>\n",
       "      <td>4.286758e+09</td>\n",
       "      <td>3.647119e+37</td>\n",
       "      <td>6.078819e+07</td>\n",
       "      <td>88.465473</td>\n",
       "    </tr>\n",
       "    <tr>\n",
       "      <th>std</th>\n",
       "      <td>1.212496e+09</td>\n",
       "      <td>2.370779e+37</td>\n",
       "      <td>3.788313e+07</td>\n",
       "      <td>328.107050</td>\n",
       "    </tr>\n",
       "    <tr>\n",
       "      <th>min</th>\n",
       "      <td>1.241619e+09</td>\n",
       "      <td>5.460000e+33</td>\n",
       "      <td>2.860442e+06</td>\n",
       "      <td>0.000000</td>\n",
       "    </tr>\n",
       "    <tr>\n",
       "      <th>25%</th>\n",
       "      <td>4.037550e+09</td>\n",
       "      <td>1.502500e+37</td>\n",
       "      <td>1.420445e+07</td>\n",
       "      <td>0.000000</td>\n",
       "    </tr>\n",
       "    <tr>\n",
       "      <th>50%</th>\n",
       "      <td>4.656519e+09</td>\n",
       "      <td>3.890000e+37</td>\n",
       "      <td>8.326777e+07</td>\n",
       "      <td>0.000000</td>\n",
       "    </tr>\n",
       "    <tr>\n",
       "      <th>75%</th>\n",
       "      <td>5.164751e+09</td>\n",
       "      <td>5.310000e+37</td>\n",
       "      <td>9.513666e+07</td>\n",
       "      <td>0.000000</td>\n",
       "    </tr>\n",
       "    <tr>\n",
       "      <th>max</th>\n",
       "      <td>5.595806e+09</td>\n",
       "      <td>9.210000e+37</td>\n",
       "      <td>1.005328e+08</td>\n",
       "      <td>3180.000000</td>\n",
       "    </tr>\n",
       "  </tbody>\n",
       "</table>\n",
       "</div>"
      ],
      "text/plain": [
       "          member_id    browser_id   register_id  second_per_day\n",
       "count  3.180000e+02  7.820000e+02  1.420000e+02      782.000000\n",
       "mean   4.286758e+09  3.647119e+37  6.078819e+07       88.465473\n",
       "std    1.212496e+09  2.370779e+37  3.788313e+07      328.107050\n",
       "min    1.241619e+09  5.460000e+33  2.860442e+06        0.000000\n",
       "25%    4.037550e+09  1.502500e+37  1.420445e+07        0.000000\n",
       "50%    4.656519e+09  3.890000e+37  8.326777e+07        0.000000\n",
       "75%    5.164751e+09  5.310000e+37  9.513666e+07        0.000000\n",
       "max    5.595806e+09  9.210000e+37  1.005328e+08     3180.000000"
      ]
     },
     "execution_count": 30,
     "metadata": {},
     "output_type": "execute_result"
    }
   ],
   "source": [
    "health.describe()"
   ]
  },
  {
   "cell_type": "code",
   "execution_count": 31,
   "metadata": {},
   "outputs": [
    {
     "name": "stdout",
     "output_type": "stream",
     "text": [
      "The number of clicks in health website:  782\n"
     ]
    }
   ],
   "source": [
    "print('The number of clicks in health website: ', len(health['member_id']))"
   ]
  },
  {
   "cell_type": "code",
   "execution_count": 32,
   "metadata": {},
   "outputs": [
    {
     "data": {
      "text/plain": [
       "date_time\n",
       "2020-08-08 19:34:55+00:00    4.962938e+09\n",
       "2020-08-08 19:42:28+00:00    5.517609e+09\n",
       "2020-08-08 19:37:47+00:00    4.602799e+09\n",
       "2020-08-08 19:16:25+00:00    5.097178e+09\n",
       "2020-08-08 19:13:54+00:00    3.006599e+09\n",
       "                                 ...     \n",
       "2020-10-07 00:23:13+00:00    2.189364e+09\n",
       "2020-10-07 00:00:47+00:00    5.462046e+09\n",
       "2020-10-07 00:20:17+00:00    3.041227e+09\n",
       "2020-10-07 00:12:49+00:00    4.021587e+09\n",
       "2020-10-07 00:16:00+00:00    4.021587e+09\n",
       "Name: member_id, Length: 318, dtype: float64"
      ]
     },
     "execution_count": 32,
     "metadata": {},
     "output_type": "execute_result"
    }
   ],
   "source": [
    "health['member_id'].dropna()"
   ]
  },
  {
   "cell_type": "code",
   "execution_count": 33,
   "metadata": {},
   "outputs": [
    {
     "data": {
      "text/plain": [
       "<bound method Series.unique of date_time\n",
       "2020-08-08 19:34:55+00:00    4.962938e+09\n",
       "2020-08-08 19:42:28+00:00    5.517609e+09\n",
       "2020-08-08 19:37:47+00:00    4.602799e+09\n",
       "2020-08-08 19:16:25+00:00    5.097178e+09\n",
       "2020-08-08 19:13:54+00:00    3.006599e+09\n",
       "                                 ...     \n",
       "2020-10-07 00:23:13+00:00    2.189364e+09\n",
       "2020-10-07 00:00:47+00:00    5.462046e+09\n",
       "2020-10-07 00:20:17+00:00    3.041227e+09\n",
       "2020-10-07 00:12:49+00:00    4.021587e+09\n",
       "2020-10-07 00:16:00+00:00    4.021587e+09\n",
       "Name: member_id, Length: 318, dtype: float64>"
      ]
     },
     "execution_count": 33,
     "metadata": {},
     "output_type": "execute_result"
    }
   ],
   "source": [
    "health['member_id'].dropna().unique"
   ]
  },
  {
   "cell_type": "code",
   "execution_count": 34,
   "metadata": {},
   "outputs": [
    {
     "name": "stdout",
     "output_type": "stream",
     "text": [
      "The number of member in health website:  318\n"
     ]
    }
   ],
   "source": [
    "print('The number of member in health website: ', len(health['member_id'].dropna()))"
   ]
  },
  {
   "cell_type": "code",
   "execution_count": 35,
   "metadata": {},
   "outputs": [
    {
     "name": "stdout",
     "output_type": "stream",
     "text": [
      " The percentages of members in visitors:  40.66496163682864\n"
     ]
    }
   ],
   "source": [
    "print(' The percentages of members in visitors: ', len(health['member_id'].dropna())*100/len(health['member_id']))"
   ]
  },
  {
   "cell_type": "code",
   "execution_count": 36,
   "metadata": {},
   "outputs": [
    {
     "name": "stdout",
     "output_type": "stream",
     "text": [
      "The number of register in health website:  142\n"
     ]
    }
   ],
   "source": [
    "print('The number of register in health website: ', len(health['register_id'].dropna()))"
   ]
  },
  {
   "cell_type": "code",
   "execution_count": 37,
   "metadata": {},
   "outputs": [
    {
     "name": "stdout",
     "output_type": "stream",
     "text": [
      " The percentages of register in visitors:  18.15856777493606\n"
     ]
    }
   ],
   "source": [
    "print(' The percentages of register in visitors: ', len(health['register_id'].dropna())*100/len(health['register_id']))"
   ]
  },
  {
   "cell_type": "markdown",
   "metadata": {},
   "source": [
    "# Choose membership website to analysing"
   ]
  },
  {
   "cell_type": "code",
   "execution_count": 38,
   "metadata": {},
   "outputs": [],
   "source": [
    "membership = data[data['url'].str.contains('www:/membership/').fillna(False)]"
   ]
  },
  {
   "cell_type": "code",
   "execution_count": 39,
   "metadata": {},
   "outputs": [
    {
     "data": {
      "text/html": [
       "<div>\n",
       "<style scoped>\n",
       "    .dataframe tbody tr th:only-of-type {\n",
       "        vertical-align: middle;\n",
       "    }\n",
       "\n",
       "    .dataframe tbody tr th {\n",
       "        vertical-align: top;\n",
       "    }\n",
       "\n",
       "    .dataframe thead th {\n",
       "        text-align: right;\n",
       "    }\n",
       "</style>\n",
       "<table border=\"1\" class=\"dataframe\">\n",
       "  <thead>\n",
       "    <tr style=\"text-align: right;\">\n",
       "      <th></th>\n",
       "      <th>member_id</th>\n",
       "      <th>browser_id</th>\n",
       "      <th>register_id</th>\n",
       "      <th>url</th>\n",
       "      <th>second_per_day</th>\n",
       "    </tr>\n",
       "    <tr>\n",
       "      <th>date_time</th>\n",
       "      <th></th>\n",
       "      <th></th>\n",
       "      <th></th>\n",
       "      <th></th>\n",
       "      <th></th>\n",
       "    </tr>\n",
       "  </thead>\n",
       "  <tbody>\n",
       "    <tr>\n",
       "      <th>2020-07-18 10:35:41+00:00</th>\n",
       "      <td>5.297118e+09</td>\n",
       "      <td>4.950000e+37</td>\n",
       "      <td>92498553.0</td>\n",
       "      <td>www:/membership/faqs/info-2020/rewards-member-...</td>\n",
       "      <td>0</td>\n",
       "    </tr>\n",
       "    <tr>\n",
       "      <th>2020-08-05 19:11:54+00:00</th>\n",
       "      <td>4.966880e+09</td>\n",
       "      <td>1.610000e+37</td>\n",
       "      <td>89889893.0</td>\n",
       "      <td>www:/membership/faqs/info-2020/music-and-brain...</td>\n",
       "      <td>0</td>\n",
       "    </tr>\n",
       "    <tr>\n",
       "      <th>2020-08-05 19:45:17+00:00</th>\n",
       "      <td>4.642135e+09</td>\n",
       "      <td>1.380000e+37</td>\n",
       "      <td>89033129.0</td>\n",
       "      <td>www:/membership/faqs/info-2020/music-and-brain...</td>\n",
       "      <td>0</td>\n",
       "    </tr>\n",
       "    <tr>\n",
       "      <th>2020-08-05 19:46:26+00:00</th>\n",
       "      <td>4.642135e+09</td>\n",
       "      <td>1.380000e+37</td>\n",
       "      <td>89033129.0</td>\n",
       "      <td>www:/membership/faqs/info-2020/music-and-brain...</td>\n",
       "      <td>0</td>\n",
       "    </tr>\n",
       "    <tr>\n",
       "      <th>2020-05-18 08:49:27+00:00</th>\n",
       "      <td>4.064388e+09</td>\n",
       "      <td>2.550000e+37</td>\n",
       "      <td>NaN</td>\n",
       "      <td>www:/membership/faqs/info-2019/logging-into-ac...</td>\n",
       "      <td>0</td>\n",
       "    </tr>\n",
       "    <tr>\n",
       "      <th>2020-09-09 18:46:34+00:00</th>\n",
       "      <td>NaN</td>\n",
       "      <td>3.700000e+37</td>\n",
       "      <td>99676955.0</td>\n",
       "      <td>www:/membership/faqs/info-2020/music-and-brain...</td>\n",
       "      <td>0</td>\n",
       "    </tr>\n",
       "    <tr>\n",
       "      <th>2020-08-18 15:39:50+00:00</th>\n",
       "      <td>4.047763e+09</td>\n",
       "      <td>7.640000e+37</td>\n",
       "      <td>98315457.0</td>\n",
       "      <td>www:/membership/faqs/info-2019/update-address....</td>\n",
       "      <td>0</td>\n",
       "    </tr>\n",
       "    <tr>\n",
       "      <th>2020-08-18 15:27:00+00:00</th>\n",
       "      <td>4.113411e+09</td>\n",
       "      <td>4.200000e+37</td>\n",
       "      <td>94490458.0</td>\n",
       "      <td>www:/membership/faqs/info-2020/music-and-brain...</td>\n",
       "      <td>840</td>\n",
       "    </tr>\n",
       "    <tr>\n",
       "      <th>2020-08-18 15:35:04+00:00</th>\n",
       "      <td>4.102205e+09</td>\n",
       "      <td>7.580000e+37</td>\n",
       "      <td>8226822.0</td>\n",
       "      <td>www:/membership/faqs/info-2020/music-and-brain...</td>\n",
       "      <td>0</td>\n",
       "    </tr>\n",
       "    <tr>\n",
       "      <th>2020-08-18 15:03:05+00:00</th>\n",
       "      <td>5.322323e+09</td>\n",
       "      <td>4.190000e+37</td>\n",
       "      <td>93218438.0</td>\n",
       "      <td>www:/membership/faqs/info-2020/music-and-brain...</td>\n",
       "      <td>0</td>\n",
       "    </tr>\n",
       "    <tr>\n",
       "      <th>2020-08-18 15:52:55+00:00</th>\n",
       "      <td>4.006332e+09</td>\n",
       "      <td>7.600000e+37</td>\n",
       "      <td>92640852.0</td>\n",
       "      <td>www:/membership/faqs/info-2020/music-and-brain...</td>\n",
       "      <td>0</td>\n",
       "    </tr>\n",
       "    <tr>\n",
       "      <th>2020-08-18 15:29:15+00:00</th>\n",
       "      <td>5.411251e+09</td>\n",
       "      <td>4.310000e+37</td>\n",
       "      <td>95493368.0</td>\n",
       "      <td>www:/membership/faqs/info-2020/music-and-brain...</td>\n",
       "      <td>0</td>\n",
       "    </tr>\n",
       "    <tr>\n",
       "      <th>2020-09-02 03:20:15+00:00</th>\n",
       "      <td>5.526614e+09</td>\n",
       "      <td>4.030000e+36</td>\n",
       "      <td>98667108.0</td>\n",
       "      <td>www:/membership/faqs/info-2020/music-and-brain...</td>\n",
       "      <td>1320</td>\n",
       "    </tr>\n",
       "    <tr>\n",
       "      <th>2020-09-02 03:27:31+00:00</th>\n",
       "      <td>5.526614e+09</td>\n",
       "      <td>4.030000e+36</td>\n",
       "      <td>98667108.0</td>\n",
       "      <td>www:/membership/faqs/info-2020/rewards-member-...</td>\n",
       "      <td>0</td>\n",
       "    </tr>\n",
       "  </tbody>\n",
       "</table>\n",
       "</div>"
      ],
      "text/plain": [
       "                              member_id    browser_id  register_id  \\\n",
       "date_time                                                            \n",
       "2020-07-18 10:35:41+00:00  5.297118e+09  4.950000e+37   92498553.0   \n",
       "2020-08-05 19:11:54+00:00  4.966880e+09  1.610000e+37   89889893.0   \n",
       "2020-08-05 19:45:17+00:00  4.642135e+09  1.380000e+37   89033129.0   \n",
       "2020-08-05 19:46:26+00:00  4.642135e+09  1.380000e+37   89033129.0   \n",
       "2020-05-18 08:49:27+00:00  4.064388e+09  2.550000e+37          NaN   \n",
       "2020-09-09 18:46:34+00:00           NaN  3.700000e+37   99676955.0   \n",
       "2020-08-18 15:39:50+00:00  4.047763e+09  7.640000e+37   98315457.0   \n",
       "2020-08-18 15:27:00+00:00  4.113411e+09  4.200000e+37   94490458.0   \n",
       "2020-08-18 15:35:04+00:00  4.102205e+09  7.580000e+37    8226822.0   \n",
       "2020-08-18 15:03:05+00:00  5.322323e+09  4.190000e+37   93218438.0   \n",
       "2020-08-18 15:52:55+00:00  4.006332e+09  7.600000e+37   92640852.0   \n",
       "2020-08-18 15:29:15+00:00  5.411251e+09  4.310000e+37   95493368.0   \n",
       "2020-09-02 03:20:15+00:00  5.526614e+09  4.030000e+36   98667108.0   \n",
       "2020-09-02 03:27:31+00:00  5.526614e+09  4.030000e+36   98667108.0   \n",
       "\n",
       "                                                                         url  \\\n",
       "date_time                                                                      \n",
       "2020-07-18 10:35:41+00:00  www:/membership/faqs/info-2020/rewards-member-...   \n",
       "2020-08-05 19:11:54+00:00  www:/membership/faqs/info-2020/music-and-brain...   \n",
       "2020-08-05 19:45:17+00:00  www:/membership/faqs/info-2020/music-and-brain...   \n",
       "2020-08-05 19:46:26+00:00  www:/membership/faqs/info-2020/music-and-brain...   \n",
       "2020-05-18 08:49:27+00:00  www:/membership/faqs/info-2019/logging-into-ac...   \n",
       "2020-09-09 18:46:34+00:00  www:/membership/faqs/info-2020/music-and-brain...   \n",
       "2020-08-18 15:39:50+00:00  www:/membership/faqs/info-2019/update-address....   \n",
       "2020-08-18 15:27:00+00:00  www:/membership/faqs/info-2020/music-and-brain...   \n",
       "2020-08-18 15:35:04+00:00  www:/membership/faqs/info-2020/music-and-brain...   \n",
       "2020-08-18 15:03:05+00:00  www:/membership/faqs/info-2020/music-and-brain...   \n",
       "2020-08-18 15:52:55+00:00  www:/membership/faqs/info-2020/music-and-brain...   \n",
       "2020-08-18 15:29:15+00:00  www:/membership/faqs/info-2020/music-and-brain...   \n",
       "2020-09-02 03:20:15+00:00  www:/membership/faqs/info-2020/music-and-brain...   \n",
       "2020-09-02 03:27:31+00:00  www:/membership/faqs/info-2020/rewards-member-...   \n",
       "\n",
       "                           second_per_day  \n",
       "date_time                                  \n",
       "2020-07-18 10:35:41+00:00               0  \n",
       "2020-08-05 19:11:54+00:00               0  \n",
       "2020-08-05 19:45:17+00:00               0  \n",
       "2020-08-05 19:46:26+00:00               0  \n",
       "2020-05-18 08:49:27+00:00               0  \n",
       "2020-09-09 18:46:34+00:00               0  \n",
       "2020-08-18 15:39:50+00:00               0  \n",
       "2020-08-18 15:27:00+00:00             840  \n",
       "2020-08-18 15:35:04+00:00               0  \n",
       "2020-08-18 15:03:05+00:00               0  \n",
       "2020-08-18 15:52:55+00:00               0  \n",
       "2020-08-18 15:29:15+00:00               0  \n",
       "2020-09-02 03:20:15+00:00            1320  \n",
       "2020-09-02 03:27:31+00:00               0  "
      ]
     },
     "execution_count": 39,
     "metadata": {},
     "output_type": "execute_result"
    }
   ],
   "source": [
    "membership"
   ]
  },
  {
   "cell_type": "code",
   "execution_count": 40,
   "metadata": {},
   "outputs": [
    {
     "data": {
      "text/html": [
       "<div>\n",
       "<style scoped>\n",
       "    .dataframe tbody tr th:only-of-type {\n",
       "        vertical-align: middle;\n",
       "    }\n",
       "\n",
       "    .dataframe tbody tr th {\n",
       "        vertical-align: top;\n",
       "    }\n",
       "\n",
       "    .dataframe thead th {\n",
       "        text-align: right;\n",
       "    }\n",
       "</style>\n",
       "<table border=\"1\" class=\"dataframe\">\n",
       "  <thead>\n",
       "    <tr style=\"text-align: right;\">\n",
       "      <th></th>\n",
       "      <th>member_id</th>\n",
       "      <th>browser_id</th>\n",
       "      <th>register_id</th>\n",
       "      <th>second_per_day</th>\n",
       "    </tr>\n",
       "  </thead>\n",
       "  <tbody>\n",
       "    <tr>\n",
       "      <th>count</th>\n",
       "      <td>1.300000e+01</td>\n",
       "      <td>1.400000e+01</td>\n",
       "      <td>1.300000e+01</td>\n",
       "      <td>14.000000</td>\n",
       "    </tr>\n",
       "    <tr>\n",
       "      <th>mean</th>\n",
       "      <td>4.743782e+09</td>\n",
       "      <td>3.706857e+37</td>\n",
       "      <td>8.768087e+07</td>\n",
       "      <td>154.285714</td>\n",
       "    </tr>\n",
       "    <tr>\n",
       "      <th>std</th>\n",
       "      <td>6.245888e+08</td>\n",
       "      <td>2.578131e+37</td>\n",
       "      <td>2.416223e+07</td>\n",
       "      <td>403.326825</td>\n",
       "    </tr>\n",
       "    <tr>\n",
       "      <th>min</th>\n",
       "      <td>4.006332e+09</td>\n",
       "      <td>4.030000e+36</td>\n",
       "      <td>8.226822e+06</td>\n",
       "      <td>0.000000</td>\n",
       "    </tr>\n",
       "    <tr>\n",
       "      <th>25%</th>\n",
       "      <td>4.102205e+09</td>\n",
       "      <td>1.437500e+37</td>\n",
       "      <td>8.988989e+07</td>\n",
       "      <td>0.000000</td>\n",
       "    </tr>\n",
       "    <tr>\n",
       "      <th>50%</th>\n",
       "      <td>4.642135e+09</td>\n",
       "      <td>3.945000e+37</td>\n",
       "      <td>9.321844e+07</td>\n",
       "      <td>0.000000</td>\n",
       "    </tr>\n",
       "    <tr>\n",
       "      <th>75%</th>\n",
       "      <td>5.322323e+09</td>\n",
       "      <td>4.790000e+37</td>\n",
       "      <td>9.831546e+07</td>\n",
       "      <td>0.000000</td>\n",
       "    </tr>\n",
       "    <tr>\n",
       "      <th>max</th>\n",
       "      <td>5.526614e+09</td>\n",
       "      <td>7.640000e+37</td>\n",
       "      <td>9.967696e+07</td>\n",
       "      <td>1320.000000</td>\n",
       "    </tr>\n",
       "  </tbody>\n",
       "</table>\n",
       "</div>"
      ],
      "text/plain": [
       "          member_id    browser_id   register_id  second_per_day\n",
       "count  1.300000e+01  1.400000e+01  1.300000e+01       14.000000\n",
       "mean   4.743782e+09  3.706857e+37  8.768087e+07      154.285714\n",
       "std    6.245888e+08  2.578131e+37  2.416223e+07      403.326825\n",
       "min    4.006332e+09  4.030000e+36  8.226822e+06        0.000000\n",
       "25%    4.102205e+09  1.437500e+37  8.988989e+07        0.000000\n",
       "50%    4.642135e+09  3.945000e+37  9.321844e+07        0.000000\n",
       "75%    5.322323e+09  4.790000e+37  9.831546e+07        0.000000\n",
       "max    5.526614e+09  7.640000e+37  9.967696e+07     1320.000000"
      ]
     },
     "execution_count": 40,
     "metadata": {},
     "output_type": "execute_result"
    }
   ],
   "source": [
    "membership.describe()"
   ]
  },
  {
   "cell_type": "code",
   "execution_count": 41,
   "metadata": {},
   "outputs": [
    {
     "name": "stdout",
     "output_type": "stream",
     "text": [
      "The number of clicks in membership website:  14\n"
     ]
    }
   ],
   "source": [
    "print('The number of clicks in membership website: ', len(membership['member_id']))"
   ]
  },
  {
   "cell_type": "code",
   "execution_count": 42,
   "metadata": {},
   "outputs": [
    {
     "data": {
      "text/plain": [
       "date_time\n",
       "2020-07-18 10:35:41+00:00    5.297118e+09\n",
       "2020-08-05 19:11:54+00:00    4.966880e+09\n",
       "2020-08-05 19:45:17+00:00    4.642135e+09\n",
       "2020-08-05 19:46:26+00:00    4.642135e+09\n",
       "2020-05-18 08:49:27+00:00    4.064388e+09\n",
       "2020-08-18 15:39:50+00:00    4.047763e+09\n",
       "2020-08-18 15:27:00+00:00    4.113411e+09\n",
       "2020-08-18 15:35:04+00:00    4.102205e+09\n",
       "2020-08-18 15:03:05+00:00    5.322323e+09\n",
       "2020-08-18 15:52:55+00:00    4.006332e+09\n",
       "2020-08-18 15:29:15+00:00    5.411251e+09\n",
       "2020-09-02 03:20:15+00:00    5.526614e+09\n",
       "2020-09-02 03:27:31+00:00    5.526614e+09\n",
       "Name: member_id, dtype: float64"
      ]
     },
     "execution_count": 42,
     "metadata": {},
     "output_type": "execute_result"
    }
   ],
   "source": [
    "membership['member_id'].dropna()"
   ]
  },
  {
   "cell_type": "code",
   "execution_count": 43,
   "metadata": {},
   "outputs": [
    {
     "data": {
      "text/plain": [
       "<bound method Series.unique of date_time\n",
       "2020-07-18 10:35:41+00:00    5.297118e+09\n",
       "2020-08-05 19:11:54+00:00    4.966880e+09\n",
       "2020-08-05 19:45:17+00:00    4.642135e+09\n",
       "2020-08-05 19:46:26+00:00    4.642135e+09\n",
       "2020-05-18 08:49:27+00:00    4.064388e+09\n",
       "2020-08-18 15:39:50+00:00    4.047763e+09\n",
       "2020-08-18 15:27:00+00:00    4.113411e+09\n",
       "2020-08-18 15:35:04+00:00    4.102205e+09\n",
       "2020-08-18 15:03:05+00:00    5.322323e+09\n",
       "2020-08-18 15:52:55+00:00    4.006332e+09\n",
       "2020-08-18 15:29:15+00:00    5.411251e+09\n",
       "2020-09-02 03:20:15+00:00    5.526614e+09\n",
       "2020-09-02 03:27:31+00:00    5.526614e+09\n",
       "Name: member_id, dtype: float64>"
      ]
     },
     "execution_count": 43,
     "metadata": {},
     "output_type": "execute_result"
    }
   ],
   "source": [
    "membership['member_id'].dropna().unique"
   ]
  },
  {
   "cell_type": "code",
   "execution_count": 44,
   "metadata": {},
   "outputs": [
    {
     "name": "stdout",
     "output_type": "stream",
     "text": [
      "The number of member in membership website:  13\n"
     ]
    }
   ],
   "source": [
    "print('The number of member in membership website: ', len(membership['member_id'].dropna()))"
   ]
  },
  {
   "cell_type": "code",
   "execution_count": 45,
   "metadata": {},
   "outputs": [
    {
     "name": "stdout",
     "output_type": "stream",
     "text": [
      " The percentages of members in membership:  92.85714285714286\n"
     ]
    }
   ],
   "source": [
    "print(' The percentages of members in membership: ', len(membership['member_id'].dropna())*100/len(membership['member_id']))"
   ]
  },
  {
   "cell_type": "code",
   "execution_count": 46,
   "metadata": {},
   "outputs": [
    {
     "data": {
      "text/plain": [
       "<bound method Series.unique of date_time\n",
       "2020-07-18 10:35:41+00:00    92498553.0\n",
       "2020-08-05 19:11:54+00:00    89889893.0\n",
       "2020-08-05 19:45:17+00:00    89033129.0\n",
       "2020-08-05 19:46:26+00:00    89033129.0\n",
       "2020-09-09 18:46:34+00:00    99676955.0\n",
       "2020-08-18 15:39:50+00:00    98315457.0\n",
       "2020-08-18 15:27:00+00:00    94490458.0\n",
       "2020-08-18 15:35:04+00:00     8226822.0\n",
       "2020-08-18 15:03:05+00:00    93218438.0\n",
       "2020-08-18 15:52:55+00:00    92640852.0\n",
       "2020-08-18 15:29:15+00:00    95493368.0\n",
       "2020-09-02 03:20:15+00:00    98667108.0\n",
       "2020-09-02 03:27:31+00:00    98667108.0\n",
       "Name: register_id, dtype: float64>"
      ]
     },
     "execution_count": 46,
     "metadata": {},
     "output_type": "execute_result"
    }
   ],
   "source": [
    "membership['register_id'].dropna().unique"
   ]
  },
  {
   "cell_type": "code",
   "execution_count": 47,
   "metadata": {},
   "outputs": [
    {
     "name": "stdout",
     "output_type": "stream",
     "text": [
      "The number of register in membership website:  13\n"
     ]
    }
   ],
   "source": [
    "print('The number of register in membership website: ', len(membership['register_id'].dropna()))"
   ]
  },
  {
   "cell_type": "code",
   "execution_count": 48,
   "metadata": {},
   "outputs": [
    {
     "name": "stdout",
     "output_type": "stream",
     "text": [
      " The percentages of regiter in membership:  92.85714285714286\n"
     ]
    }
   ],
   "source": [
    "print(' The percentages of regiter in membership: ', len(membership['register_id'].dropna())*100/(len(membership['register_id'])))"
   ]
  },
  {
   "cell_type": "markdown",
   "metadata": {},
   "source": [
    "# What else variables you can create from the existing five (dummy, numeric or characteristic variables derived from these five) ?"
   ]
  },
  {
   "cell_type": "raw",
   "metadata": {},
   "source": [
    "#  1. We can create the variables like the periods time when minumun/maximun users access. We can analyse these variables in \n",
    "each websites."
   ]
  },
  {
   "cell_type": "code",
   "execution_count": 49,
   "metadata": {},
   "outputs": [],
   "source": [
    "frequence = []\n",
    "for i in range(23):\n",
    "    temp = data.between_time('{}:00'.format(i), '{}:00'.format(i+1))\n",
    "    frequence.append([len(temp['member_id']), len(temp['member_id'].dropna()), \n",
    "                      len(temp['member_id']) - len(temp['member_id'].dropna())])"
   ]
  },
  {
   "cell_type": "code",
   "execution_count": 50,
   "metadata": {},
   "outputs": [],
   "source": [
    "import matplotlib.pyplot as plt\n",
    "import numpy as np"
   ]
  },
  {
   "cell_type": "code",
   "execution_count": 51,
   "metadata": {},
   "outputs": [
    {
     "data": {
      "image/png": "[encoded data removed]",
      "text/plain": [
       "<Figure size 432x288 with 1 Axes>"
      ]
     },
     "metadata": {
      "needs_background": "light"
     },
     "output_type": "display_data"
    }
   ],
   "source": [
    "plt.plot([i for i in range(len(np.array(frequence)[:, 0]))], np.array(frequence)[:, 0], 'go-', linewidth=2)\n",
    "plt.title(\"Fequency general users access website\")\n",
    "plt.xlabel(\"time in day\")\n",
    "plt.ylabel(\"Frequency\");"
   ]
  },
  {
   "cell_type": "markdown",
   "metadata": {},
   "source": [
    "We can consider the most of general users access website between 14:00 to 20:00 "
   ]
  },
  {
   "cell_type": "code",
   "execution_count": 52,
   "metadata": {
    "scrolled": true
   },
   "outputs": [
    {
     "data": {
      "image/png": "[encoded data removed]",
      "text/plain": [
       "<Figure size 432x288 with 1 Axes>"
      ]
     },
     "metadata": {
      "needs_background": "light"
     },
     "output_type": "display_data"
    }
   ],
   "source": [
    "plt.plot([i for i in range(len(np.array(frequence)[:, 1]))], np.array(frequence)[:, 1], 'r-^', linewidth=2)\n",
    "plt.title(\"Fequency member users access website\")\n",
    "plt.xlabel(\"time in day\")\n",
    "plt.ylabel(\"Frequency\");"
   ]
  },
  {
   "cell_type": "markdown",
   "metadata": {},
   "source": [
    "We can consider the most of member users access website between 14:00 to 20:00 "
   ]
  },
  {
   "cell_type": "code",
   "execution_count": 53,
   "metadata": {},
   "outputs": [
    {
     "data": {
      "image/png": "[encoded data removed]",
      "text/plain": [
       "<Figure size 432x288 with 1 Axes>"
      ]
     },
     "metadata": {
      "needs_background": "light"
     },
     "output_type": "display_data"
    }
   ],
   "source": [
    "plt.plot([i for i in range(len(np.array(frequence)[:, 2]))], np.array(frequence)[:, 2], 'y-*', linewidth=2)\n",
    "plt.title(\"Fequency no member users access website\")\n",
    "plt.xlabel(\"time in day\")\n",
    "plt.ylabel(\"Frequency\");"
   ]
  },
  {
   "cell_type": "markdown",
   "metadata": {},
   "source": [
    "We can consider the most of no registry users access website between 14:00 to 20:00 "
   ]
  },
  {
   "cell_type": "markdown",
   "metadata": {},
   "source": [
    "#  Next step i will choose game website to analysing these variables"
   ]
  },
  {
   "cell_type": "code",
   "execution_count": 54,
   "metadata": {},
   "outputs": [],
   "source": [
    "games = data[data['url'].str.contains('games:').fillna(False)]"
   ]
  },
  {
   "cell_type": "code",
   "execution_count": 55,
   "metadata": {},
   "outputs": [
    {
     "data": {
      "text/html": [
       "<div>\n",
       "<style scoped>\n",
       "    .dataframe tbody tr th:only-of-type {\n",
       "        vertical-align: middle;\n",
       "    }\n",
       "\n",
       "    .dataframe tbody tr th {\n",
       "        vertical-align: top;\n",
       "    }\n",
       "\n",
       "    .dataframe thead th {\n",
       "        text-align: right;\n",
       "    }\n",
       "</style>\n",
       "<table border=\"1\" class=\"dataframe\">\n",
       "  <thead>\n",
       "    <tr style=\"text-align: right;\">\n",
       "      <th></th>\n",
       "      <th>member_id</th>\n",
       "      <th>browser_id</th>\n",
       "      <th>register_id</th>\n",
       "      <th>url</th>\n",
       "      <th>second_per_day</th>\n",
       "    </tr>\n",
       "    <tr>\n",
       "      <th>date_time</th>\n",
       "      <th></th>\n",
       "      <th></th>\n",
       "      <th></th>\n",
       "      <th></th>\n",
       "      <th></th>\n",
       "    </tr>\n",
       "  </thead>\n",
       "  <tbody>\n",
       "    <tr>\n",
       "      <th>2020-08-08 19:32:18+00:00</th>\n",
       "      <td>NaN</td>\n",
       "      <td>4.830000e+37</td>\n",
       "      <td>NaN</td>\n",
       "      <td>games:/games/bubble-dragons</td>\n",
       "      <td>0</td>\n",
       "    </tr>\n",
       "    <tr>\n",
       "      <th>2020-08-08 19:03:08+00:00</th>\n",
       "      <td>5.131951e+09</td>\n",
       "      <td>3.050000e+37</td>\n",
       "      <td>34999201.0</td>\n",
       "      <td>games:/games/forty-thieves-solitaire</td>\n",
       "      <td>0</td>\n",
       "    </tr>\n",
       "    <tr>\n",
       "      <th>2020-08-08 19:37:28+00:00</th>\n",
       "      <td>1.473905e+09</td>\n",
       "      <td>4.860000e+37</td>\n",
       "      <td>94842213.0</td>\n",
       "      <td>games:/games/mahjongg-solitaire</td>\n",
       "      <td>0</td>\n",
       "    </tr>\n",
       "    <tr>\n",
       "      <th>2020-08-08 19:03:07+00:00</th>\n",
       "      <td>NaN</td>\n",
       "      <td>3.150000e+37</td>\n",
       "      <td>NaN</td>\n",
       "      <td>games:/games/backgammon</td>\n",
       "      <td>0</td>\n",
       "    </tr>\n",
       "    <tr>\n",
       "      <th>2020-08-08 19:55:12+00:00</th>\n",
       "      <td>NaN</td>\n",
       "      <td>4.980000e+37</td>\n",
       "      <td>NaN</td>\n",
       "      <td>games:/games/classic-solitaire</td>\n",
       "      <td>0</td>\n",
       "    </tr>\n",
       "    <tr>\n",
       "      <th>...</th>\n",
       "      <td>...</td>\n",
       "      <td>...</td>\n",
       "      <td>...</td>\n",
       "      <td>...</td>\n",
       "      <td>...</td>\n",
       "    </tr>\n",
       "    <tr>\n",
       "      <th>2020-10-07 00:00:23+00:00</th>\n",
       "      <td>4.050994e+09</td>\n",
       "      <td>8.290000e+36</td>\n",
       "      <td>93464516.0</td>\n",
       "      <td>games:/games/ballistic</td>\n",
       "      <td>0</td>\n",
       "    </tr>\n",
       "    <tr>\n",
       "      <th>2020-10-07 00:01:21+00:00</th>\n",
       "      <td>NaN</td>\n",
       "      <td>1.840000e+35</td>\n",
       "      <td>NaN</td>\n",
       "      <td>games:/category/all-games</td>\n",
       "      <td>0</td>\n",
       "    </tr>\n",
       "    <tr>\n",
       "      <th>2020-10-07 00:00:45+00:00</th>\n",
       "      <td>NaN</td>\n",
       "      <td>7.460000e+35</td>\n",
       "      <td>NaN</td>\n",
       "      <td>games:/games/jigsaw</td>\n",
       "      <td>0</td>\n",
       "    </tr>\n",
       "    <tr>\n",
       "      <th>2020-10-07 00:00:27+00:00</th>\n",
       "      <td>NaN</td>\n",
       "      <td>1.930000e+36</td>\n",
       "      <td>96646832.0</td>\n",
       "      <td>games:/games/spider-solitaire</td>\n",
       "      <td>0</td>\n",
       "    </tr>\n",
       "    <tr>\n",
       "      <th>2020-10-07 00:11:07+00:00</th>\n",
       "      <td>4.015069e+09</td>\n",
       "      <td>2.030000e+36</td>\n",
       "      <td>61252.0</td>\n",
       "      <td>games:/games/mahjongg-toy-chest</td>\n",
       "      <td>0</td>\n",
       "    </tr>\n",
       "  </tbody>\n",
       "</table>\n",
       "<p>2421 rows × 5 columns</p>\n",
       "</div>"
      ],
      "text/plain": [
       "                              member_id    browser_id  register_id  \\\n",
       "date_time                                                            \n",
       "2020-08-08 19:32:18+00:00           NaN  4.830000e+37          NaN   \n",
       "2020-08-08 19:03:08+00:00  5.131951e+09  3.050000e+37   34999201.0   \n",
       "2020-08-08 19:37:28+00:00  1.473905e+09  4.860000e+37   94842213.0   \n",
       "2020-08-08 19:03:07+00:00           NaN  3.150000e+37          NaN   \n",
       "2020-08-08 19:55:12+00:00           NaN  4.980000e+37          NaN   \n",
       "...                                 ...           ...          ...   \n",
       "2020-10-07 00:00:23+00:00  4.050994e+09  8.290000e+36   93464516.0   \n",
       "2020-10-07 00:01:21+00:00           NaN  1.840000e+35          NaN   \n",
       "2020-10-07 00:00:45+00:00           NaN  7.460000e+35          NaN   \n",
       "2020-10-07 00:00:27+00:00           NaN  1.930000e+36   96646832.0   \n",
       "2020-10-07 00:11:07+00:00  4.015069e+09  2.030000e+36      61252.0   \n",
       "\n",
       "                                                            url  \\\n",
       "date_time                                                         \n",
       "2020-08-08 19:32:18+00:00           games:/games/bubble-dragons   \n",
       "2020-08-08 19:03:08+00:00  games:/games/forty-thieves-solitaire   \n",
       "2020-08-08 19:37:28+00:00       games:/games/mahjongg-solitaire   \n",
       "2020-08-08 19:03:07+00:00               games:/games/backgammon   \n",
       "2020-08-08 19:55:12+00:00        games:/games/classic-solitaire   \n",
       "...                                                         ...   \n",
       "2020-10-07 00:00:23+00:00                games:/games/ballistic   \n",
       "2020-10-07 00:01:21+00:00             games:/category/all-games   \n",
       "2020-10-07 00:00:45+00:00                   games:/games/jigsaw   \n",
       "2020-10-07 00:00:27+00:00         games:/games/spider-solitaire   \n",
       "2020-10-07 00:11:07+00:00       games:/games/mahjongg-toy-chest   \n",
       "\n",
       "                           second_per_day  \n",
       "date_time                                  \n",
       "2020-08-08 19:32:18+00:00               0  \n",
       "2020-08-08 19:03:08+00:00               0  \n",
       "2020-08-08 19:37:28+00:00               0  \n",
       "2020-08-08 19:03:07+00:00               0  \n",
       "2020-08-08 19:55:12+00:00               0  \n",
       "...                                   ...  \n",
       "2020-10-07 00:00:23+00:00               0  \n",
       "2020-10-07 00:01:21+00:00               0  \n",
       "2020-10-07 00:00:45+00:00               0  \n",
       "2020-10-07 00:00:27+00:00               0  \n",
       "2020-10-07 00:11:07+00:00               0  \n",
       "\n",
       "[2421 rows x 5 columns]"
      ]
     },
     "execution_count": 55,
     "metadata": {},
     "output_type": "execute_result"
    }
   ],
   "source": [
    "games"
   ]
  },
  {
   "cell_type": "code",
   "execution_count": 56,
   "metadata": {},
   "outputs": [],
   "source": [
    "frequence = []\n",
    "for i in range(23):\n",
    "    temp = games.between_time('{}:00'.format(i), '{}:00'.format(i+1))\n",
    "    frequence.append([len(temp['member_id']), len(temp['member_id'].dropna()), \n",
    "                      len(temp['member_id']) - len(temp['member_id'].dropna())])"
   ]
  },
  {
   "cell_type": "code",
   "execution_count": 57,
   "metadata": {},
   "outputs": [
    {
     "data": {
      "image/png": "[encoded data removed]",
      "text/plain": [
       "<Figure size 432x288 with 1 Axes>"
      ]
     },
     "metadata": {
      "needs_background": "light"
     },
     "output_type": "display_data"
    }
   ],
   "source": [
    "plt.plot([i for i in range(len(np.array(frequence)[:, 0]))], np.array(frequence)[:, 0], 'go-', linewidth=2)\n",
    "plt.title(\"Fequency general users access games website\")\n",
    "plt.xlabel(\"time in day\")\n",
    "plt.ylabel(\"Frequency\");"
   ]
  },
  {
   "cell_type": "code",
   "execution_count": 58,
   "metadata": {},
   "outputs": [
    {
     "data": {
      "image/png": "[encoded data removed]",
      "text/plain": [
       "<Figure size 432x288 with 1 Axes>"
      ]
     },
     "metadata": {
      "needs_background": "light"
     },
     "output_type": "display_data"
    }
   ],
   "source": [
    "plt.plot([i for i in range(len(np.array(frequence)[:, 1]))], np.array(frequence)[:, 1], 'r-^', linewidth=2)\n",
    "plt.title(\"Fequency member users access game website\")\n",
    "plt.xlabel(\"time in day\")\n",
    "plt.ylabel(\"Frequency\");"
   ]
  },
  {
   "cell_type": "code",
   "execution_count": 59,
   "metadata": {},
   "outputs": [
    {
     "data": {
      "image/png": "[encoded data removed]",
      "text/plain": [
       "<Figure size 432x288 with 1 Axes>"
      ]
     },
     "metadata": {
      "needs_background": "light"
     },
     "output_type": "display_data"
    }
   ],
   "source": [
    "plt.plot([i for i in range(len(np.array(frequence)[:, 2]))], np.array(frequence)[:, 2], 'y-*', linewidth=2)\n",
    "plt.title(\"Fequency no member users access games website\")\n",
    "plt.xlabel(\"time in day\")\n",
    "plt.ylabel(\"Frequency\");"
   ]
  }
 ],
 "metadata": {
  "kernelspec": {
   "display_name": "Python 3",
   "language": "python",
   "name": "python3"
  },
  "language_info": {
   "codemirror_mode": {
    "name": "ipython",
    "version": 3
   },
   "file_extension": ".py",
   "mimetype": "text/x-python",
   "name": "python",
   "nbconvert_exporter": "python",
   "pygments_lexer": "ipython3",
   "version": "3.7.0"
  }
 },
 "nbformat": 4,
 "nbformat_minor": 4
}
